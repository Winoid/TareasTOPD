{
 "cells": [
  {
   "cell_type": "code",
   "execution_count": 20,
   "metadata": {},
   "outputs": [
    {
     "data": {
      "text/html": [
       "<div>\n",
       "<style scoped>\n",
       "    .dataframe tbody tr th:only-of-type {\n",
       "        vertical-align: middle;\n",
       "    }\n",
       "\n",
       "    .dataframe tbody tr th {\n",
       "        vertical-align: top;\n",
       "    }\n",
       "\n",
       "    .dataframe thead th {\n",
       "        text-align: right;\n",
       "    }\n",
       "</style>\n",
       "<table border=\"1\" class=\"dataframe\">\n",
       "  <thead>\n",
       "    <tr style=\"text-align: right;\">\n",
       "      <th></th>\n",
       "      <th>COD_HOSPITAL</th>\n",
       "      <th>CIP_ENCRIPTADO</th>\n",
       "      <th>SEXO</th>\n",
       "      <th>FECHA_NACIMIENTO</th>\n",
       "      <th>SERVICIO_SALUD</th>\n",
       "      <th>TIPO_INGRESO</th>\n",
       "      <th>FECHA_INGRESO</th>\n",
       "      <th>FECHA_ALTA</th>\n",
       "      <th>TIPO_ALTA</th>\n",
       "      <th>DIAGNOSTICO1</th>\n",
       "      <th>IR_29301_COD_GRD</th>\n",
       "      <th>IR_29301_PESO</th>\n",
       "      <th>IR_29301_SEVERIDAD</th>\n",
       "      <th>IR_29301_MORTALIDAD</th>\n",
       "      <th>EDAD</th>\n",
       "      <th>DIAS_ESTANCIA</th>\n",
       "      <th>NOMBRE_HOSPITAL</th>\n",
       "    </tr>\n",
       "  </thead>\n",
       "  <tbody>\n",
       "    <tr>\n",
       "      <th>0</th>\n",
       "      <td>122100</td>\n",
       "      <td>72196813.0</td>\n",
       "      <td>HOMBRE</td>\n",
       "      <td>1980-04-13</td>\n",
       "      <td>VALDIVIA</td>\n",
       "      <td>URGENCIA</td>\n",
       "      <td>2023-03-12</td>\n",
       "      <td>2023-03-14</td>\n",
       "      <td>DOMICILIO</td>\n",
       "      <td>K35.3</td>\n",
       "      <td>64161.0</td>\n",
       "      <td>0.7094</td>\n",
       "      <td>1.0</td>\n",
       "      <td>1.0</td>\n",
       "      <td>43.0</td>\n",
       "      <td>2</td>\n",
       "      <td>Hospital Clínico Regional (Valdivia)</td>\n",
       "    </tr>\n",
       "    <tr>\n",
       "      <th>1</th>\n",
       "      <td>114101</td>\n",
       "      <td>NaN</td>\n",
       "      <td>HOMBRE</td>\n",
       "      <td>2001-11-04</td>\n",
       "      <td>METROPOLITANO SURORIENTE</td>\n",
       "      <td>URGENCIA</td>\n",
       "      <td>2023-11-04</td>\n",
       "      <td>2023-11-10</td>\n",
       "      <td>DOMICILIO</td>\n",
       "      <td>J93.1</td>\n",
       "      <td>41301.0</td>\n",
       "      <td>1.0869</td>\n",
       "      <td>1.0</td>\n",
       "      <td>1.0</td>\n",
       "      <td>22.0</td>\n",
       "      <td>6</td>\n",
       "      <td>Complejo Hospitalario Dr. Sótero del Río (San...</td>\n",
       "    </tr>\n",
       "    <tr>\n",
       "      <th>2</th>\n",
       "      <td>114101</td>\n",
       "      <td>97627974.0</td>\n",
       "      <td>HOMBRE</td>\n",
       "      <td>2020-07-30</td>\n",
       "      <td>METROPOLITANO SURORIENTE</td>\n",
       "      <td>URGENCIA</td>\n",
       "      <td>2023-06-07</td>\n",
       "      <td>2023-06-08</td>\n",
       "      <td>HOSPITALIZACIÓN DOMICILIARIA</td>\n",
       "      <td>J12.1</td>\n",
       "      <td>44161.0</td>\n",
       "      <td>0.4084</td>\n",
       "      <td>1.0</td>\n",
       "      <td>1.0</td>\n",
       "      <td>3.0</td>\n",
       "      <td>1</td>\n",
       "      <td>Complejo Hospitalario Dr. Sótero del Río (San...</td>\n",
       "    </tr>\n",
       "    <tr>\n",
       "      <th>3</th>\n",
       "      <td>106103</td>\n",
       "      <td>67770674.0</td>\n",
       "      <td>MUJER</td>\n",
       "      <td>1978-11-14</td>\n",
       "      <td>VALPARAISO SAN ANTONIO</td>\n",
       "      <td>PROGRAMADA</td>\n",
       "      <td>2023-05-25</td>\n",
       "      <td>2023-05-26</td>\n",
       "      <td>DOMICILIO</td>\n",
       "      <td>N39.3</td>\n",
       "      <td>131301.0</td>\n",
       "      <td>0.6406</td>\n",
       "      <td>1.0</td>\n",
       "      <td>1.0</td>\n",
       "      <td>45.0</td>\n",
       "      <td>1</td>\n",
       "      <td>Hospital Claudio Vicuña (San Antonio)</td>\n",
       "    </tr>\n",
       "    <tr>\n",
       "      <th>4</th>\n",
       "      <td>106103</td>\n",
       "      <td>100390800.0</td>\n",
       "      <td>MUJER</td>\n",
       "      <td>2023-12-20</td>\n",
       "      <td>VALPARAISO SAN ANTONIO</td>\n",
       "      <td>URGENCIA</td>\n",
       "      <td>2023-12-28</td>\n",
       "      <td>2023-12-30</td>\n",
       "      <td>DOMICILIO</td>\n",
       "      <td>R17</td>\n",
       "      <td>74131.0</td>\n",
       "      <td>0.5346</td>\n",
       "      <td>1.0</td>\n",
       "      <td>1.0</td>\n",
       "      <td>0.0</td>\n",
       "      <td>2</td>\n",
       "      <td>Hospital Claudio Vicuña (San Antonio)</td>\n",
       "    </tr>\n",
       "  </tbody>\n",
       "</table>\n",
       "</div>"
      ],
      "text/plain": [
       "   COD_HOSPITAL  CIP_ENCRIPTADO    SEXO FECHA_NACIMIENTO  \\\n",
       "0        122100      72196813.0  HOMBRE       1980-04-13   \n",
       "1        114101             NaN  HOMBRE       2001-11-04   \n",
       "2        114101      97627974.0  HOMBRE       2020-07-30   \n",
       "3        106103      67770674.0   MUJER       1978-11-14   \n",
       "4        106103     100390800.0   MUJER       2023-12-20   \n",
       "\n",
       "             SERVICIO_SALUD TIPO_INGRESO FECHA_INGRESO  FECHA_ALTA  \\\n",
       "0                  VALDIVIA     URGENCIA    2023-03-12  2023-03-14   \n",
       "1  METROPOLITANO SURORIENTE     URGENCIA    2023-11-04  2023-11-10   \n",
       "2  METROPOLITANO SURORIENTE     URGENCIA    2023-06-07  2023-06-08   \n",
       "3    VALPARAISO SAN ANTONIO   PROGRAMADA    2023-05-25  2023-05-26   \n",
       "4    VALPARAISO SAN ANTONIO     URGENCIA    2023-12-28  2023-12-30   \n",
       "\n",
       "                      TIPO_ALTA DIAGNOSTICO1  IR_29301_COD_GRD  IR_29301_PESO  \\\n",
       "0                     DOMICILIO        K35.3           64161.0         0.7094   \n",
       "1                     DOMICILIO        J93.1           41301.0         1.0869   \n",
       "2  HOSPITALIZACIÓN DOMICILIARIA        J12.1           44161.0         0.4084   \n",
       "3                     DOMICILIO        N39.3          131301.0         0.6406   \n",
       "4                     DOMICILIO          R17           74131.0         0.5346   \n",
       "\n",
       "   IR_29301_SEVERIDAD  IR_29301_MORTALIDAD  EDAD  DIAS_ESTANCIA  \\\n",
       "0                 1.0                  1.0  43.0              2   \n",
       "1                 1.0                  1.0  22.0              6   \n",
       "2                 1.0                  1.0   3.0              1   \n",
       "3                 1.0                  1.0  45.0              1   \n",
       "4                 1.0                  1.0   0.0              2   \n",
       "\n",
       "                                     NOMBRE_HOSPITAL  \n",
       "0               Hospital Clínico Regional (Valdivia)  \n",
       "1   Complejo Hospitalario Dr. Sótero del Río (San...  \n",
       "2   Complejo Hospitalario Dr. Sótero del Río (San...  \n",
       "3              Hospital Claudio Vicuña (San Antonio)  \n",
       "4              Hospital Claudio Vicuña (San Antonio)  "
      ]
     },
     "execution_count": 20,
     "metadata": {},
     "output_type": "execute_result"
    }
   ],
   "source": [
    "# Importa la biblioteca pandas con el alias pd, que se usa para manipulación de datos en estructuras tipo DataFrame.\n",
    "import pandas as pd\n",
    "\n",
    "# Importa la biblioteca numpy con el alias np, que se usa para operaciones numéricas avanzadas (aunque en este fragmento no se utiliza).\n",
    "import numpy as np\n",
    "\n",
    "# Lee el archivo 'grd_2023.csv' usando como delimitador el símbolo '|' y lo guarda en un DataFrame llamado grd.\n",
    "grd = pd.read_csv('grd_2023.csv', delimiter='|')\n",
    "\n",
    "# Muestra las primeras 5 filas del DataFrame grd para una vista preliminar de los datos.\n",
    "grd.head()\n",
    "\n",
    "# Lee el archivo 'hospitales.csv', sin encabezado (header=None), y con '|' como delimitador. Guarda el resultado en un DataFrame llamado hospitales.\n",
    "hospitales = pd.read_csv('hospitales.csv', header=None, delimiter=\"|\")\n",
    "\n",
    "# Muestra las primeras 5 filas del DataFrame hospitales.\n",
    "hospitales.head()\n",
    "\n",
    "# Lee el archivo 'ir-GRD.csv', sin encabezado (header=None), usando '|' como delimitador, y lo guarda en el DataFrame ir.\n",
    "ir = pd.read_csv('ir-GRD.csv', delimiter='|', header = None)\n",
    "\n",
    "# Muestra el contenido completo del DataFrame ir.\n",
    "ir\n",
    "# Realiza una combinación (merge) entre los DataFrames grd y hospitales. \n",
    "# Se usa 'COD_HOSPITAL' de grd y la columna 0 de hospitales para hacer la combinación (join).\n",
    "# Se utiliza 'how=\"left\"' para hacer una combinación a la izquierda, lo que significa que todos los registros de grd estarán en el resultado.\n",
    "grd_h = pd.merge(grd, hospitales, left_on='COD_HOSPITAL', right_on=0, how='left')\n",
    "\n",
    "# Elimina la columna 0 del DataFrame resultante, que es la que se utilizó para la combinación y que ya no es necesaria.\n",
    "grd_h = grd_h.drop(columns=0)\n",
    "\n",
    "# Renombra la columna 1 del DataFrame resultante a 'NOMBRE_HOSPITAL' para que tenga un nombre más descriptivo.\n",
    "grd_h = grd_h.rename(columns={1: 'NOMBRE_HOSPITAL'})\n",
    "\n",
    "# Renombra la columna 'FECHAALTA' a 'FECHA_ALTA' para estandarizar el nombre de la columna.\n",
    "grd_h = grd_h.rename(columns={\"FECHAALTA\": 'FECHA_ALTA'})\n",
    "\n",
    "# Renombra la columna 'TIPOALTA' a 'TIPO_ALTA' para estandarizar el nombre de la columna.\n",
    "grd_h = grd_h.rename(columns={\"TIPOALTA\": 'TIPO_ALTA'})\n",
    "\n",
    "# Muestra las primeras 5 filas del DataFrame grd_h para revisar el resultado de las transformaciones.\n",
    "grd_h.head()\n"
   ]
  },
  {
   "cell_type": "code",
   "execution_count": 21,
   "metadata": {},
   "outputs": [
    {
     "data": {
      "text/plain": [
       "array(['URGENCIA', 'PROGRAMADA', 'OBSTETRICA', nan], dtype=object)"
      ]
     },
     "execution_count": 21,
     "metadata": {},
     "output_type": "execute_result"
    }
   ],
   "source": [
    "grd_h[\"TIPO_INGRESO\"].unique()\n"
   ]
  },
  {
   "cell_type": "code",
   "execution_count": 22,
   "metadata": {},
   "outputs": [
    {
     "data": {
      "text/html": [
       "<div>\n",
       "<style scoped>\n",
       "    .dataframe tbody tr th:only-of-type {\n",
       "        vertical-align: middle;\n",
       "    }\n",
       "\n",
       "    .dataframe tbody tr th {\n",
       "        vertical-align: top;\n",
       "    }\n",
       "\n",
       "    .dataframe thead th {\n",
       "        text-align: right;\n",
       "    }\n",
       "</style>\n",
       "<table border=\"1\" class=\"dataframe\">\n",
       "  <thead>\n",
       "    <tr style=\"text-align: right;\">\n",
       "      <th></th>\n",
       "      <th>NOMBRE_HOSPITAL</th>\n",
       "      <th>SEXO</th>\n",
       "      <th>FECHA_NACIMIENTO</th>\n",
       "      <th>TIPO_INGRESO</th>\n",
       "      <th>TIPO_ALTA</th>\n",
       "      <th>IR_29301_SEVERIDAD</th>\n",
       "      <th>IR_29301_MORTALIDAD</th>\n",
       "      <th>EDAD</th>\n",
       "      <th>DIAS_ESTANCIA</th>\n",
       "    </tr>\n",
       "  </thead>\n",
       "  <tbody>\n",
       "    <tr>\n",
       "      <th>0</th>\n",
       "      <td>Hospital Clínico Regional (Valdivia)</td>\n",
       "      <td>HOMBRE</td>\n",
       "      <td>1980-04-13</td>\n",
       "      <td>URGENCIA</td>\n",
       "      <td>DOMICILIO</td>\n",
       "      <td>1.0</td>\n",
       "      <td>1.0</td>\n",
       "      <td>43.0</td>\n",
       "      <td>2</td>\n",
       "    </tr>\n",
       "    <tr>\n",
       "      <th>1</th>\n",
       "      <td>Complejo Hospitalario Dr. Sótero del Río (San...</td>\n",
       "      <td>HOMBRE</td>\n",
       "      <td>2001-11-04</td>\n",
       "      <td>URGENCIA</td>\n",
       "      <td>DOMICILIO</td>\n",
       "      <td>1.0</td>\n",
       "      <td>1.0</td>\n",
       "      <td>22.0</td>\n",
       "      <td>6</td>\n",
       "    </tr>\n",
       "    <tr>\n",
       "      <th>2</th>\n",
       "      <td>Complejo Hospitalario Dr. Sótero del Río (San...</td>\n",
       "      <td>HOMBRE</td>\n",
       "      <td>2020-07-30</td>\n",
       "      <td>URGENCIA</td>\n",
       "      <td>HOSPITALIZACIÓN DOMICILIARIA</td>\n",
       "      <td>1.0</td>\n",
       "      <td>1.0</td>\n",
       "      <td>3.0</td>\n",
       "      <td>1</td>\n",
       "    </tr>\n",
       "    <tr>\n",
       "      <th>3</th>\n",
       "      <td>Hospital Claudio Vicuña (San Antonio)</td>\n",
       "      <td>MUJER</td>\n",
       "      <td>1978-11-14</td>\n",
       "      <td>PROGRAMADA</td>\n",
       "      <td>DOMICILIO</td>\n",
       "      <td>1.0</td>\n",
       "      <td>1.0</td>\n",
       "      <td>45.0</td>\n",
       "      <td>1</td>\n",
       "    </tr>\n",
       "    <tr>\n",
       "      <th>4</th>\n",
       "      <td>Hospital Claudio Vicuña (San Antonio)</td>\n",
       "      <td>MUJER</td>\n",
       "      <td>2023-12-20</td>\n",
       "      <td>URGENCIA</td>\n",
       "      <td>DOMICILIO</td>\n",
       "      <td>1.0</td>\n",
       "      <td>1.0</td>\n",
       "      <td>0.0</td>\n",
       "      <td>2</td>\n",
       "    </tr>\n",
       "    <tr>\n",
       "      <th>...</th>\n",
       "      <td>...</td>\n",
       "      <td>...</td>\n",
       "      <td>...</td>\n",
       "      <td>...</td>\n",
       "      <td>...</td>\n",
       "      <td>...</td>\n",
       "      <td>...</td>\n",
       "      <td>...</td>\n",
       "      <td>...</td>\n",
       "    </tr>\n",
       "    <tr>\n",
       "      <th>1039582</th>\n",
       "      <td>Hospital Dr. Antonio Tirado Lanas (Ovalle)</td>\n",
       "      <td>MUJER</td>\n",
       "      <td>1995-12-06</td>\n",
       "      <td>OBSTETRICA</td>\n",
       "      <td>DOMICILIO</td>\n",
       "      <td>1.0</td>\n",
       "      <td>1.0</td>\n",
       "      <td>27.0</td>\n",
       "      <td>3</td>\n",
       "    </tr>\n",
       "    <tr>\n",
       "      <th>1039583</th>\n",
       "      <td>Hospital Clínico Regional Dr. Guillermo Grant...</td>\n",
       "      <td>MUJER</td>\n",
       "      <td>1991-04-26</td>\n",
       "      <td>PROGRAMADA</td>\n",
       "      <td>DOMICILIO</td>\n",
       "      <td>0.0</td>\n",
       "      <td>0.0</td>\n",
       "      <td>32.0</td>\n",
       "      <td>0</td>\n",
       "    </tr>\n",
       "    <tr>\n",
       "      <th>1039584</th>\n",
       "      <td>Hospital Regional de Rancagua</td>\n",
       "      <td>HOMBRE</td>\n",
       "      <td>2015-01-08</td>\n",
       "      <td>URGENCIA</td>\n",
       "      <td>DOMICILIO</td>\n",
       "      <td>1.0</td>\n",
       "      <td>1.0</td>\n",
       "      <td>9.0</td>\n",
       "      <td>2</td>\n",
       "    </tr>\n",
       "    <tr>\n",
       "      <th>1039585</th>\n",
       "      <td>Hospital Base San José de Osorno</td>\n",
       "      <td>HOMBRE</td>\n",
       "      <td>2014-01-07</td>\n",
       "      <td>PROGRAMADA</td>\n",
       "      <td>DOMICILIO</td>\n",
       "      <td>1.0</td>\n",
       "      <td>1.0</td>\n",
       "      <td>9.0</td>\n",
       "      <td>0</td>\n",
       "    </tr>\n",
       "    <tr>\n",
       "      <th>1039586</th>\n",
       "      <td>Hospital Dr. Mauricio Heyermann (Angol)</td>\n",
       "      <td>HOMBRE</td>\n",
       "      <td>1950-08-24</td>\n",
       "      <td>URGENCIA</td>\n",
       "      <td>DOMICILIO</td>\n",
       "      <td>1.0</td>\n",
       "      <td>1.0</td>\n",
       "      <td>72.0</td>\n",
       "      <td>5</td>\n",
       "    </tr>\n",
       "  </tbody>\n",
       "</table>\n",
       "<p>1039587 rows × 9 columns</p>\n",
       "</div>"
      ],
      "text/plain": [
       "                                           NOMBRE_HOSPITAL    SEXO  \\\n",
       "0                     Hospital Clínico Regional (Valdivia)  HOMBRE   \n",
       "1         Complejo Hospitalario Dr. Sótero del Río (San...  HOMBRE   \n",
       "2         Complejo Hospitalario Dr. Sótero del Río (San...  HOMBRE   \n",
       "3                    Hospital Claudio Vicuña (San Antonio)   MUJER   \n",
       "4                    Hospital Claudio Vicuña (San Antonio)   MUJER   \n",
       "...                                                    ...     ...   \n",
       "1039582         Hospital Dr. Antonio Tirado Lanas (Ovalle)   MUJER   \n",
       "1039583   Hospital Clínico Regional Dr. Guillermo Grant...   MUJER   \n",
       "1039584                      Hospital Regional de Rancagua  HOMBRE   \n",
       "1039585                   Hospital Base San José de Osorno  HOMBRE   \n",
       "1039586            Hospital Dr. Mauricio Heyermann (Angol)  HOMBRE   \n",
       "\n",
       "        FECHA_NACIMIENTO TIPO_INGRESO                     TIPO_ALTA  \\\n",
       "0             1980-04-13     URGENCIA                     DOMICILIO   \n",
       "1             2001-11-04     URGENCIA                     DOMICILIO   \n",
       "2             2020-07-30     URGENCIA  HOSPITALIZACIÓN DOMICILIARIA   \n",
       "3             1978-11-14   PROGRAMADA                     DOMICILIO   \n",
       "4             2023-12-20     URGENCIA                     DOMICILIO   \n",
       "...                  ...          ...                           ...   \n",
       "1039582       1995-12-06   OBSTETRICA                     DOMICILIO   \n",
       "1039583       1991-04-26   PROGRAMADA                     DOMICILIO   \n",
       "1039584       2015-01-08     URGENCIA                     DOMICILIO   \n",
       "1039585       2014-01-07   PROGRAMADA                     DOMICILIO   \n",
       "1039586       1950-08-24     URGENCIA                     DOMICILIO   \n",
       "\n",
       "         IR_29301_SEVERIDAD  IR_29301_MORTALIDAD  EDAD  DIAS_ESTANCIA  \n",
       "0                       1.0                  1.0  43.0              2  \n",
       "1                       1.0                  1.0  22.0              6  \n",
       "2                       1.0                  1.0   3.0              1  \n",
       "3                       1.0                  1.0  45.0              1  \n",
       "4                       1.0                  1.0   0.0              2  \n",
       "...                     ...                  ...   ...            ...  \n",
       "1039582                 1.0                  1.0  27.0              3  \n",
       "1039583                 0.0                  0.0  32.0              0  \n",
       "1039584                 1.0                  1.0   9.0              2  \n",
       "1039585                 1.0                  1.0   9.0              0  \n",
       "1039586                 1.0                  1.0  72.0              5  \n",
       "\n",
       "[1039587 rows x 9 columns]"
      ]
     },
     "execution_count": 22,
     "metadata": {},
     "output_type": "execute_result"
    }
   ],
   "source": [
    "# Realiza una combinación (merge) entre los DataFrames grd_h y ir. \n",
    "# Se utiliza 'IR_29301_COD_GRD' de grd_h y la columna 0 de ir para hacer la combinación (join).\n",
    "# Se utiliza 'how=\"left\"' para hacer una combinación a la izquierda, asegurando que todos los registros de grd_h estén en el resultado.\n",
    "# Después, se elimina la columna 0 de ir (que se utilizó para la combinación) y se renombra la columna 1 de ir a 'NOMBRE_IR'.\n",
    "grd_f = pd.merge(grd_h, ir, left_on='IR_29301_COD_GRD', right_on=0, how='left').drop(columns=0).rename(columns={1: 'NOMBRE_IR'})\n",
    "\n",
    "# Selecciona un subconjunto de columnas del DataFrame grd_f, asegurando que solo se mantendrán las columnas especificadas en la lista.\n",
    "# Esto reordena las columnas y se asegura de que solo estén las necesarias para el análisis.\n",
    "grd_f = grd_f[[\"NOMBRE_HOSPITAL\", \"SEXO\", \"FECHA_NACIMIENTO\", \n",
    "               \"TIPO_INGRESO\", \"TIPO_ALTA\",\n",
    "               \"IR_29301_SEVERIDAD\",\n",
    "               \"IR_29301_MORTALIDAD\", \"EDAD\",\"DIAS_ESTANCIA\"]]\n",
    "\n",
    "# Muestra el DataFrame resultante grd_f, que ahora contiene solo las columnas seleccionadas.\n",
    "grd_f"
   ]
  },
  {
   "cell_type": "code",
   "execution_count": 23,
   "metadata": {},
   "outputs": [],
   "source": [
    "# Remove rows with null values\n",
    "grd_f = grd_f.dropna()\n",
    "\n",
    "# Optionally, reset the index after dropping rows\n",
    "grd_f = grd_f.reset_index(drop=True)"
   ]
  },
  {
   "cell_type": "code",
   "execution_count": 24,
   "metadata": {},
   "outputs": [],
   "source": [
    "grd_f[\"TIPO_INGRESO\"] = np.where(grd_f[\"TIPO_INGRESO\"] == \"URGENCIA\", 1, 0)"
   ]
  },
  {
   "cell_type": "code",
   "execution_count": 25,
   "metadata": {},
   "outputs": [
    {
     "data": {
      "text/plain": [
       "0.4988854714931796"
      ]
     },
     "execution_count": 25,
     "metadata": {},
     "output_type": "execute_result"
    }
   ],
   "source": [
    "(grd_f[\"TIPO_INGRESO\"].sum())/(grd_f.shape[0])"
   ]
  },
  {
   "cell_type": "markdown",
   "metadata": {},
   "source": [
    "Casi la mitad de todos los ingresos del dataset son por urgencias, lo cual podria ser un dato importante mas adelante."
   ]
  },
  {
   "cell_type": "code",
   "execution_count": 26,
   "metadata": {},
   "outputs": [
    {
     "data": {
      "text/plain": [
       "array(['DOMICILIO', 'HOSPITALIZACIÓN DOMICILIARIA',\n",
       "       'DERIVACIÓN INST. PRIVADA (COMPRA DE SERVICIOS',\n",
       "       'DERIVACIÓN OTRO HOSPITAL DEL SERVICIO', 'FUGA DEL PACIENTE',\n",
       "       'DERIVACIÓN OTRO HOSPITAL DE LA RED NACIONAL', 'ALTA VOLUNTARIA',\n",
       "       'FALLECIDO', 'DERIVACIÓN A OTROS CENTROS (CÁRCEL, HOGAR DE',\n",
       "       'DERIVACIÓN INST. PRIVADA (VOLUNTARIO)'], dtype=object)"
      ]
     },
     "execution_count": 26,
     "metadata": {},
     "output_type": "execute_result"
    }
   ],
   "source": [
    "grd_f[\"TIPO_ALTA\"].unique()"
   ]
  },
  {
   "cell_type": "code",
   "execution_count": 27,
   "metadata": {},
   "outputs": [],
   "source": [
    "grd_f[\"TIPO_ALTA\"] = np.where(grd_f[\"TIPO_ALTA\"] == \"FALLECIDO\", 1, 0)"
   ]
  },
  {
   "cell_type": "code",
   "execution_count": 28,
   "metadata": {},
   "outputs": [
    {
     "data": {
      "text/plain": [
       "0.02416559478879757"
      ]
     },
     "execution_count": 28,
     "metadata": {},
     "output_type": "execute_result"
    }
   ],
   "source": [
    "(grd_f[\"TIPO_ALTA\"].sum())/(grd_f.shape[0])"
   ]
  },
  {
   "cell_type": "markdown",
   "metadata": {},
   "source": [
    "Solo el 2% de los pacientes han fallecido, ahora revisaremos la variacion de esto segun su indice de mortalidad"
   ]
  },
  {
   "cell_type": "code",
   "execution_count": 29,
   "metadata": {},
   "outputs": [
    {
     "name": "stdout",
     "output_type": "stream",
     "text": [
      "IR_29301_MORTALIDAD\n",
      "0.0    0.000031\n",
      "1.0    0.001709\n",
      "2.0    0.016002\n",
      "3.0    0.127120\n",
      "Name: TIPO_ALTA, dtype: float64\n"
     ]
    }
   ],
   "source": [
    "# Group by 'IR_29301_MORTALIDAD' and calculate the sum and count of 'TIPO_ALTA'\n",
    "grouped = grd_f.groupby(\"IR_29301_MORTALIDAD\")[\"TIPO_ALTA\"]\n",
    "\n",
    "# Calculate the mean by dividing the sum by the count\n",
    "result = grouped.sum() / grouped.count()\n",
    "\n",
    "print(result)"
   ]
  },
  {
   "cell_type": "markdown",
   "metadata": {},
   "source": [
    "Se puede apreciar claramente que a mayor mortalidad otorgada al paciente, mayor es la tase de fallecimiento de este. ahora veremos si adicionalmente juega un papel el rango de edad de los pacientes"
   ]
  },
  {
   "cell_type": "code",
   "execution_count": 30,
   "metadata": {},
   "outputs": [
    {
     "name": "stdout",
     "output_type": "stream",
     "text": [
      "         EDAD         AGE_GROUP\n",
      "0        43.0           Adultez\n",
      "1        22.0          Juventud\n",
      "2         3.0  Primera infancia\n",
      "3        45.0           Adultez\n",
      "4         0.0               NaN\n",
      "...       ...               ...\n",
      "1039448  27.0           Adultez\n",
      "1039449  32.0           Adultez\n",
      "1039450   9.0          Infancia\n",
      "1039451   9.0          Infancia\n",
      "1039452  72.0     Persona mayor\n",
      "\n",
      "[1039453 rows x 2 columns]\n"
     ]
    }
   ],
   "source": [
    "# Define the bins and labels for the age ranges\n",
    "bins = [0, 5, 11, 17, 26, 59, float('inf')]\n",
    "labels = ['Primera infancia', 'Infancia', 'Adolescencia', 'Juventud', 'Adultez', 'Persona mayor']\n",
    "\n",
    "# Create a new column with the age ranges\n",
    "grd_f['AGE_GROUP'] = pd.cut(grd_f['EDAD'], bins=bins, labels=labels, right=True)\n",
    "\n",
    "print(grd_f[['EDAD', 'AGE_GROUP']])"
   ]
  },
  {
   "cell_type": "code",
   "execution_count": 32,
   "metadata": {},
   "outputs": [
    {
     "name": "stdout",
     "output_type": "stream",
     "text": [
      "AGE_GROUP         IR_29301_MORTALIDAD\n",
      "Primera infancia  0.0                    0.000000\n",
      "                  1.0                    0.000093\n",
      "                  2.0                    0.001373\n",
      "                  3.0                    0.005781\n",
      "Infancia          0.0                    0.000000\n",
      "                  1.0                    0.000049\n",
      "                  2.0                    0.001150\n",
      "                  3.0                    0.012495\n",
      "Adolescencia      0.0                    0.000000\n",
      "                  1.0                    0.000038\n",
      "                  2.0                    0.002736\n",
      "                  3.0                    0.037333\n",
      "Juventud          0.0                    0.000000\n",
      "                  1.0                    0.000227\n",
      "                  2.0                    0.003973\n",
      "                  3.0                    0.068842\n",
      "Adultez           0.0                    0.000041\n",
      "                  1.0                    0.000704\n",
      "                  2.0                    0.008011\n",
      "                  3.0                    0.108323\n",
      "Persona mayor     0.0                    0.000023\n",
      "                  1.0                    0.006297\n",
      "                  2.0                    0.024706\n",
      "                  3.0                    0.177786\n",
      "Name: TIPO_ALTA, dtype: float64\n"
     ]
    },
    {
     "name": "stderr",
     "output_type": "stream",
     "text": [
      "/var/folders/hw/8tjnzmw52vbctc3wdkptw00r0000gn/T/ipykernel_12355/2059623976.py:2: FutureWarning: The default of observed=False is deprecated and will be changed to True in a future version of pandas. Pass observed=False to retain current behavior or observed=True to adopt the future default and silence this warning.\n",
      "  grouped = grd_f.groupby([\"AGE_GROUP\", \"IR_29301_MORTALIDAD\"])[\"TIPO_ALTA\"]\n"
     ]
    }
   ],
   "source": [
    "# Group by 'AGE_GROUP' and 'IR_29301_MORTALIDAD', then calculate the sum and count of 'TIPO_ALTA'\n",
    "grouped = grd_f.groupby([\"AGE_GROUP\", \"IR_29301_MORTALIDAD\"])[\"TIPO_ALTA\"]\n",
    "\n",
    "# Calculate the mean by dividing the sum by the count\n",
    "result = grouped.sum() / grouped.count()\n",
    "\n",
    "print(result)"
   ]
  },
  {
   "cell_type": "markdown",
   "metadata": {},
   "source": [
    "ahora revisaremos especificamente con mortalidad 3, donde se espera encontrar la mayor variabilidad"
   ]
  },
  {
   "cell_type": "code",
   "execution_count": 33,
   "metadata": {},
   "outputs": [
    {
     "name": "stdout",
     "output_type": "stream",
     "text": [
      "AGE_GROUP\n",
      "Primera infancia    0.005781\n",
      "Infancia            0.012495\n",
      "Adolescencia        0.037333\n",
      "Juventud            0.068842\n",
      "Adultez             0.108323\n",
      "Persona mayor       0.177786\n",
      "Name: TIPO_ALTA, dtype: float64\n"
     ]
    },
    {
     "name": "stderr",
     "output_type": "stream",
     "text": [
      "/var/folders/hw/8tjnzmw52vbctc3wdkptw00r0000gn/T/ipykernel_12355/302623226.py:5: FutureWarning: The default of observed=False is deprecated and will be changed to True in a future version of pandas. Pass observed=False to retain current behavior or observed=True to adopt the future default and silence this warning.\n",
      "  grouped = filtered_df.groupby(\"AGE_GROUP\")[\"TIPO_ALTA\"]\n"
     ]
    }
   ],
   "source": [
    "# Filter the DataFrame for rows where 'IR_29301_MORTALIDAD' equals 3\n",
    "filtered_df = grd_f[grd_f[\"IR_29301_MORTALIDAD\"] == 3]\n",
    "\n",
    "# Group by 'AGE_GROUP' and calculate the sum and count of 'TIPO_ALTA'\n",
    "grouped = filtered_df.groupby(\"AGE_GROUP\")[\"TIPO_ALTA\"]\n",
    "\n",
    "# Calculate the mean by dividing the sum by the count\n",
    "result = grouped.sum() / grouped.count()\n",
    "\n",
    "print(result)"
   ]
  },
  {
   "cell_type": "code",
   "execution_count": 34,
   "metadata": {},
   "outputs": [
    {
     "name": "stderr",
     "output_type": "stream",
     "text": [
      "/var/folders/hw/8tjnzmw52vbctc3wdkptw00r0000gn/T/ipykernel_12355/3261869417.py:4: FutureWarning: The default of observed=False is deprecated and will be changed to True in a future version of pandas. Pass observed=False to retain current behavior or observed=True to adopt the future default and silence this warning.\n",
      "  grouped = grd_f.groupby([\"AGE_GROUP\", \"IR_29301_MORTALIDAD\"])[\"TIPO_ALTA\"]\n"
     ]
    },
    {
     "data": {
      "image/png": "[encoded data removed]",
      "text/plain": [
       "<Figure size 1000x600 with 1 Axes>"
      ]
     },
     "metadata": {},
     "output_type": "display_data"
    }
   ],
   "source": [
    "import matplotlib.pyplot as plt\n",
    "\n",
    "# Group by 'AGE_GROUP' and 'IR_29301_MORTALIDAD', then calculate the mean\n",
    "grouped = grd_f.groupby([\"AGE_GROUP\", \"IR_29301_MORTALIDAD\"])[\"TIPO_ALTA\"]\n",
    "result = (grouped.sum() / grouped.count()).unstack()  # Unstack for better visualization\n",
    "\n",
    "# Plot the result as a bar chart\n",
    "result.plot(kind=\"bar\", figsize=(10, 6))\n",
    "\n",
    "# Add labels and title\n",
    "plt.title(\"Mortality Rate by Age Group and IR_29301_MORTALIDAD\")\n",
    "plt.xlabel(\"Age Group\")\n",
    "plt.ylabel(\"Mortality Rate\")\n",
    "plt.legend(title=\"IR_29301_MORTALIDAD\", bbox_to_anchor=(1.05, 1), loc=\"upper left\")\n",
    "plt.tight_layout()\n",
    "\n",
    "# Show the plot\n",
    "plt.show()"
   ]
  }
 ],
 "metadata": {
  "kernelspec": {
   "display_name": "Python 3",
   "language": "python",
   "name": "python3"
  },
  "language_info": {
   "codemirror_mode": {
    "name": "ipython",
    "version": 3
   },
   "file_extension": ".py",
   "mimetype": "text/x-python",
   "name": "python",
   "nbconvert_exporter": "python",
   "pygments_lexer": "ipython3",
   "version": "3.12.3"
  }
 },
 "nbformat": 4,
 "nbformat_minor": 2
}
