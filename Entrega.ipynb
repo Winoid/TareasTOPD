{
 "cells": [
  {
   "cell_type": "code",
   "execution_count": 1,
   "metadata": {},
   "outputs": [
    {
     "data": {
      "text/html": [
       "<div>\n",
       "<style scoped>\n",
       "    .dataframe tbody tr th:only-of-type {\n",
       "        vertical-align: middle;\n",
       "    }\n",
       "\n",
       "    .dataframe tbody tr th {\n",
       "        vertical-align: top;\n",
       "    }\n",
       "\n",
       "    .dataframe thead th {\n",
       "        text-align: right;\n",
       "    }\n",
       "</style>\n",
       "<table border=\"1\" class=\"dataframe\">\n",
       "  <thead>\n",
       "    <tr style=\"text-align: right;\">\n",
       "      <th></th>\n",
       "      <th>0</th>\n",
       "      <th>1</th>\n",
       "    </tr>\n",
       "  </thead>\n",
       "  <tbody>\n",
       "    <tr>\n",
       "      <th>0</th>\n",
       "      <td>11011</td>\n",
       "      <td>PH PROCEDIMIENTOS VASCULARES INTRACRANEALES</td>\n",
       "    </tr>\n",
       "    <tr>\n",
       "      <th>1</th>\n",
       "      <td>11012</td>\n",
       "      <td>PH PROCEDIMIENTOS VASCULARES INTRACRANEALES W/CC</td>\n",
       "    </tr>\n",
       "    <tr>\n",
       "      <th>2</th>\n",
       "      <td>11013</td>\n",
       "      <td>PH PROCEDIMIENTOS VASCULARES INTRACRANEALES W...</td>\n",
       "    </tr>\n",
       "    <tr>\n",
       "      <th>3</th>\n",
       "      <td>11101</td>\n",
       "      <td>PH CRANEOTOMÍA</td>\n",
       "    </tr>\n",
       "    <tr>\n",
       "      <th>4</th>\n",
       "      <td>11102</td>\n",
       "      <td>PH CRANEOTOMÍA W/CC</td>\n",
       "    </tr>\n",
       "    <tr>\n",
       "      <th>...</th>\n",
       "      <td>...</td>\n",
       "      <td>...</td>\n",
       "    </tr>\n",
       "    <tr>\n",
       "      <th>1061</th>\n",
       "      <td>990089</td>\n",
       "      <td>INAGRUPABLE, DURACIÓN DE LA ESTANCIA NO VÁLIDA</td>\n",
       "    </tr>\n",
       "    <tr>\n",
       "      <th>1062</th>\n",
       "      <td>990099</td>\n",
       "      <td>INAGRUPABLE, PACIENTE AMBULATORIO CON PROCED....</td>\n",
       "    </tr>\n",
       "    <tr>\n",
       "      <th>1063</th>\n",
       "      <td>990119</td>\n",
       "      <td>INAGRUPABLE, SIN CRITERIO DE AGRUPACIÓN PARA ...</td>\n",
       "    </tr>\n",
       "    <tr>\n",
       "      <th>1064</th>\n",
       "      <td>990129</td>\n",
       "      <td>INAGRUPABLE, SIN CRITERIO DE AGRUPACIÓN PARA ...</td>\n",
       "    </tr>\n",
       "    <tr>\n",
       "      <th>1065</th>\n",
       "      <td>990149</td>\n",
       "      <td>INAGRUPABLE, DIAG. PRINCIPAL INVÁLIDO COMO DI...</td>\n",
       "    </tr>\n",
       "  </tbody>\n",
       "</table>\n",
       "<p>1066 rows × 2 columns</p>\n",
       "</div>"
      ],
      "text/plain": [
       "           0                                                  1\n",
       "0      11011        PH PROCEDIMIENTOS VASCULARES INTRACRANEALES\n",
       "1      11012   PH PROCEDIMIENTOS VASCULARES INTRACRANEALES W/CC\n",
       "2      11013   PH PROCEDIMIENTOS VASCULARES INTRACRANEALES W...\n",
       "3      11101                                     PH CRANEOTOMÍA\n",
       "4      11102                                PH CRANEOTOMÍA W/CC\n",
       "...      ...                                                ...\n",
       "1061  990089     INAGRUPABLE, DURACIÓN DE LA ESTANCIA NO VÁLIDA\n",
       "1062  990099   INAGRUPABLE, PACIENTE AMBULATORIO CON PROCED....\n",
       "1063  990119   INAGRUPABLE, SIN CRITERIO DE AGRUPACIÓN PARA ...\n",
       "1064  990129   INAGRUPABLE, SIN CRITERIO DE AGRUPACIÓN PARA ...\n",
       "1065  990149   INAGRUPABLE, DIAG. PRINCIPAL INVÁLIDO COMO DI...\n",
       "\n",
       "[1066 rows x 2 columns]"
      ]
     },
     "execution_count": 1,
     "metadata": {},
     "output_type": "execute_result"
    }
   ],
   "source": [
    "# Importa la biblioteca pandas con el alias pd, que se usa para manipulación de datos en estructuras tipo DataFrame.\n",
    "import pandas as pd\n",
    "\n",
    "# Importa la biblioteca numpy con el alias np, que se usa para operaciones numéricas avanzadas.\n",
    "import numpy as np\n",
    "\n",
    "#Importa la biblioteca matplotlib con el alias plt, con el submodulo pyplot que se usa para la creacion de graficos.\n",
    "import matplotlib.pyplot as plt\n",
    "\n",
    "# Lee el archivo 'grd_2023.csv' usando como delimitador el símbolo '|' y lo guarda en un DataFrame llamado grd.\n",
    "grd = pd.read_csv('grd_2023.csv', delimiter='|')\n",
    "\n",
    "# Muestra las primeras 5 filas del DataFrame grd para una vista preliminar de los datos.\n",
    "grd.head()\n",
    "\n",
    "# Lee el archivo 'hospitales.csv', sin encabezado (header=None), y con '|' como delimitador. Guarda el resultado en un DataFrame llamado hospitales.\n",
    "hospitales = pd.read_csv('hospitales.csv', header=None, delimiter=\"|\")\n",
    "\n",
    "# Muestra las primeras 5 filas del DataFrame hospitales.\n",
    "hospitales.head()\n",
    "\n",
    "# Lee el archivo 'ir-GRD.csv', sin encabezado (header=None), usando '|' como delimitador, y lo guarda en el DataFrame ir.\n",
    "ir = pd.read_csv('ir-GRD.csv', delimiter='|', header = None)\n",
    "\n",
    "# Muestra el contenido completo del DataFrame ir.\n",
    "ir"
   ]
  },
  {
   "cell_type": "code",
   "execution_count": 2,
   "metadata": {},
   "outputs": [
    {
     "data": {
      "text/plain": [
       "Index(['COD_HOSPITAL', 'CIP_ENCRIPTADO', 'SEXO', 'FECHA_NACIMIENTO',\n",
       "       'SERVICIO_SALUD', 'TIPO_INGRESO', 'FECHA_INGRESO', 'FECHAALTA',\n",
       "       'TIPOALTA', 'DIAGNOSTICO1', 'IR_29301_COD_GRD', 'IR_29301_PESO',\n",
       "       'IR_29301_SEVERIDAD', 'IR_29301_MORTALIDAD', 'EDAD', 'DIAS_ESTANCIA'],\n",
       "      dtype='object')"
      ]
     },
     "execution_count": 2,
     "metadata": {},
     "output_type": "execute_result"
    }
   ],
   "source": [
    "grd.columns"
   ]
  },
  {
   "cell_type": "code",
   "execution_count": 3,
   "metadata": {},
   "outputs": [
    {
     "data": {
      "text/plain": [
       "Index(['COD_HOSPITAL', 'CIP_ENCRIPTADO', 'SEXO', 'FECHA_NACIMIENTO',\n",
       "       'SERVICIO_SALUD', 'TIPO_INGRESO', 'FECHA_INGRESO', 'FECHA_ALTA',\n",
       "       'TIPO_ALTA', 'DIAGNOSTICO1', 'IR_29301_COD_GRD', 'IR_29301_PESO',\n",
       "       'IR_29301_SEVERIDAD', 'IR_29301_MORTALIDAD', 'EDAD', 'DIAS_ESTANCIA',\n",
       "       'NOMBRE_HOSPITAL'],\n",
       "      dtype='object')"
      ]
     },
     "execution_count": 3,
     "metadata": {},
     "output_type": "execute_result"
    }
   ],
   "source": [
    "# Realiza una combinación (merge) entre los DataFrames grd y hospitales. \n",
    "# Se usa 'COD_HOSPITAL' de grd y la columna 0 de hospitales para hacer la combinación (join).\n",
    "# Se utiliza 'how=\"left\"' para hacer una combinación a la izquierda, lo que significa que todos los registros de grd estarán en el resultado.\n",
    "grd_h = pd.merge(grd, hospitales, left_on='COD_HOSPITAL', right_on=0, how='left')\n",
    "\n",
    "# Elimina la columna 0 del DataFrame resultante, que es la que se utilizó para la combinación y que ya no es necesaria.\n",
    "grd_h = grd_h.drop(columns=0)\n",
    "\n",
    "# Renombra la columna 1 del DataFrame resultante a 'NOMBRE_HOSPITAL' para que tenga un nombre más descriptivo.\n",
    "grd_h = grd_h.rename(columns={1: 'NOMBRE_HOSPITAL'})\n",
    "\n",
    "# Renombra la columna 'FECHAALTA' a 'FECHA_ALTA' para estandarizar el nombre de la columna.\n",
    "grd_h = grd_h.rename(columns={\"FECHAALTA\": 'FECHA_ALTA'})\n",
    "\n",
    "# Renombra la columna 'TIPOALTA' a 'TIPO_ALTA' para estandarizar el nombre de la columna.\n",
    "grd_h = grd_h.rename(columns={\"TIPOALTA\": 'TIPO_ALTA'})\n",
    "\n",
    "# Muestra las primeras 5 filas del DataFrame grd_h para revisar el resultado de las transformaciones.\n",
    "grd_h.columns"
   ]
  },
  {
   "cell_type": "code",
   "execution_count": 4,
   "metadata": {},
   "outputs": [
    {
     "data": {
      "text/plain": [
       "Index(['COD_HOSPITAL', 'NOMBRE_HOSPITAL', 'CIP_ENCRIPTADO', 'SEXO',\n",
       "       'FECHA_NACIMIENTO', 'SERVICIO_SALUD', 'TIPO_INGRESO', 'FECHA_INGRESO',\n",
       "       'FECHA_ALTA', 'TIPO_ALTA', 'DIAGNOSTICO1', 'NOMBRE_IR',\n",
       "       'IR_29301_COD_GRD', 'IR_29301_PESO', 'IR_29301_SEVERIDAD',\n",
       "       'IR_29301_MORTALIDAD', 'EDAD', 'DIAS_ESTANCIA'],\n",
       "      dtype='object')"
      ]
     },
     "execution_count": 4,
     "metadata": {},
     "output_type": "execute_result"
    }
   ],
   "source": [
    "# Realiza una combinación (merge) entre los DataFrames grd_h y ir. \n",
    "# Se utiliza 'IR_29301_COD_GRD' de grd_h y la columna 0 de ir para hacer la combinación (join).\n",
    "# Se utiliza 'how=\"left\"' para hacer una combinación a la izquierda, asegurando que todos los registros de grd_h estén en el resultado.\n",
    "# Después, se elimina la columna 0 de ir (que se utilizó para la combinación) y se renombra la columna 1 de ir a 'NOMBRE_IR'.\n",
    "grd_f = pd.merge(grd_h, ir, left_on='IR_29301_COD_GRD', right_on=0, how='left').drop(columns=0).rename(columns={1: 'NOMBRE_IR'})\n",
    "\n",
    "# Selecciona un subconjunto de columnas del DataFrame grd_f, asegurando que solo se mantendrán las columnas especificadas en la lista.\n",
    "# Esto reordena las columnas y se asegura de que solo estén las necesarias para el análisis.\n",
    "grd_f = grd_f[[\"COD_HOSPITAL\", \"NOMBRE_HOSPITAL\", \"CIP_ENCRIPTADO\", \"SEXO\", \"FECHA_NACIMIENTO\",\n",
    "               \"SERVICIO_SALUD\", \"TIPO_INGRESO\", \"FECHA_INGRESO\", \"FECHA_ALTA\", \"TIPO_ALTA\",\n",
    "               \"DIAGNOSTICO1\", \"NOMBRE_IR\", \"IR_29301_COD_GRD\", \"IR_29301_PESO\", \"IR_29301_SEVERIDAD\",\n",
    "               \"IR_29301_MORTALIDAD\", \"EDAD\",\"DIAS_ESTANCIA\"]]\n",
    "\n",
    "# Muestra el DataFrame resultante grd_f, que ahora contiene solo las columnas seleccionadas.\n",
    "grd_f.columns"
   ]
  },
  {
   "cell_type": "code",
   "execution_count": 5,
   "metadata": {},
   "outputs": [
    {
     "data": {
      "text/html": [
       "<div>\n",
       "<style scoped>\n",
       "    .dataframe tbody tr th:only-of-type {\n",
       "        vertical-align: middle;\n",
       "    }\n",
       "\n",
       "    .dataframe tbody tr th {\n",
       "        vertical-align: top;\n",
       "    }\n",
       "\n",
       "    .dataframe thead th {\n",
       "        text-align: right;\n",
       "    }\n",
       "</style>\n",
       "<table border=\"1\" class=\"dataframe\">\n",
       "  <thead>\n",
       "    <tr style=\"text-align: right;\">\n",
       "      <th></th>\n",
       "      <th>COD_HOSPITAL</th>\n",
       "      <th>NOMBRE_HOSPITAL</th>\n",
       "      <th>CIP_ENCRIPTADO</th>\n",
       "      <th>SEXO</th>\n",
       "      <th>FECHA_NACIMIENTO</th>\n",
       "      <th>SERVICIO_SALUD</th>\n",
       "      <th>TIPO_INGRESO</th>\n",
       "      <th>FECHA_INGRESO</th>\n",
       "      <th>FECHA_ALTA</th>\n",
       "      <th>TIPO_ALTA</th>\n",
       "      <th>DIAGNOSTICO1</th>\n",
       "      <th>NOMBRE_IR</th>\n",
       "      <th>IR_29301_COD_GRD</th>\n",
       "      <th>IR_29301_PESO</th>\n",
       "      <th>IR_29301_SEVERIDAD</th>\n",
       "      <th>IR_29301_MORTALIDAD</th>\n",
       "      <th>EDAD</th>\n",
       "      <th>DIAS_ESTANCIA</th>\n",
       "      <th>FALLECIDO</th>\n",
       "    </tr>\n",
       "  </thead>\n",
       "  <tbody>\n",
       "    <tr>\n",
       "      <th>0</th>\n",
       "      <td>122100</td>\n",
       "      <td>Hospital Clínico Regional (Valdivia)</td>\n",
       "      <td>72196813.0</td>\n",
       "      <td>HOMBRE</td>\n",
       "      <td>1980-04-13</td>\n",
       "      <td>VALDIVIA</td>\n",
       "      <td>URGENCIA</td>\n",
       "      <td>2023-03-12</td>\n",
       "      <td>2023-03-14</td>\n",
       "      <td>DOMICILIO</td>\n",
       "      <td>K35.3</td>\n",
       "      <td>MH INFECCIONES GASTROINTESTINALES MAYORES</td>\n",
       "      <td>64161.0</td>\n",
       "      <td>0.7094</td>\n",
       "      <td>1.0</td>\n",
       "      <td>1.0</td>\n",
       "      <td>43.0</td>\n",
       "      <td>2</td>\n",
       "      <td>0</td>\n",
       "    </tr>\n",
       "    <tr>\n",
       "      <th>1</th>\n",
       "      <td>114101</td>\n",
       "      <td>Complejo Hospitalario Dr. Sótero del Río (San...</td>\n",
       "      <td>NaN</td>\n",
       "      <td>HOMBRE</td>\n",
       "      <td>2001-11-04</td>\n",
       "      <td>METROPOLITANO SURORIENTE</td>\n",
       "      <td>URGENCIA</td>\n",
       "      <td>2023-11-04</td>\n",
       "      <td>2023-11-10</td>\n",
       "      <td>DOMICILIO</td>\n",
       "      <td>J93.1</td>\n",
       "      <td>PH PROCEDIMIENTOS MODERADAMENTE COMPLEJOS SOB...</td>\n",
       "      <td>41301.0</td>\n",
       "      <td>1.0869</td>\n",
       "      <td>1.0</td>\n",
       "      <td>1.0</td>\n",
       "      <td>22.0</td>\n",
       "      <td>6</td>\n",
       "      <td>0</td>\n",
       "    </tr>\n",
       "    <tr>\n",
       "      <th>2</th>\n",
       "      <td>114101</td>\n",
       "      <td>Complejo Hospitalario Dr. Sótero del Río (San...</td>\n",
       "      <td>97627974.0</td>\n",
       "      <td>HOMBRE</td>\n",
       "      <td>2020-07-30</td>\n",
       "      <td>METROPOLITANO SURORIENTE</td>\n",
       "      <td>URGENCIA</td>\n",
       "      <td>2023-06-07</td>\n",
       "      <td>2023-06-08</td>\n",
       "      <td>HOSPITALIZACIÓN DOMICILIARIA</td>\n",
       "      <td>J12.1</td>\n",
       "      <td>MH NEUMONÍA SIMPLE Y TOS FERINA</td>\n",
       "      <td>44161.0</td>\n",
       "      <td>0.4084</td>\n",
       "      <td>1.0</td>\n",
       "      <td>1.0</td>\n",
       "      <td>3.0</td>\n",
       "      <td>1</td>\n",
       "      <td>0</td>\n",
       "    </tr>\n",
       "    <tr>\n",
       "      <th>3</th>\n",
       "      <td>106103</td>\n",
       "      <td>Hospital Claudio Vicuña (San Antonio)</td>\n",
       "      <td>67770674.0</td>\n",
       "      <td>MUJER</td>\n",
       "      <td>1978-11-14</td>\n",
       "      <td>VALPARAISO SAN ANTONIO</td>\n",
       "      <td>PROGRAMADA</td>\n",
       "      <td>2023-05-25</td>\n",
       "      <td>2023-05-26</td>\n",
       "      <td>DOMICILIO</td>\n",
       "      <td>N39.3</td>\n",
       "      <td>PH HISTERECTOMIA VAGINAL Y OTROS PROCEDIMIENT...</td>\n",
       "      <td>131301.0</td>\n",
       "      <td>0.6406</td>\n",
       "      <td>1.0</td>\n",
       "      <td>1.0</td>\n",
       "      <td>45.0</td>\n",
       "      <td>1</td>\n",
       "      <td>0</td>\n",
       "    </tr>\n",
       "    <tr>\n",
       "      <th>4</th>\n",
       "      <td>106103</td>\n",
       "      <td>Hospital Claudio Vicuña (San Antonio)</td>\n",
       "      <td>100390800.0</td>\n",
       "      <td>MUJER</td>\n",
       "      <td>2023-12-20</td>\n",
       "      <td>VALPARAISO SAN ANTONIO</td>\n",
       "      <td>URGENCIA</td>\n",
       "      <td>2023-12-28</td>\n",
       "      <td>2023-12-30</td>\n",
       "      <td>DOMICILIO</td>\n",
       "      <td>R17</td>\n",
       "      <td>MH ENFERMEDADES HEPÁTICAS EXCEPTO NEOPLASIAS,...</td>\n",
       "      <td>74131.0</td>\n",
       "      <td>0.5346</td>\n",
       "      <td>1.0</td>\n",
       "      <td>1.0</td>\n",
       "      <td>0.0</td>\n",
       "      <td>2</td>\n",
       "      <td>0</td>\n",
       "    </tr>\n",
       "  </tbody>\n",
       "</table>\n",
       "</div>"
      ],
      "text/plain": [
       "   COD_HOSPITAL                                    NOMBRE_HOSPITAL  \\\n",
       "0        122100               Hospital Clínico Regional (Valdivia)   \n",
       "1        114101   Complejo Hospitalario Dr. Sótero del Río (San...   \n",
       "2        114101   Complejo Hospitalario Dr. Sótero del Río (San...   \n",
       "3        106103              Hospital Claudio Vicuña (San Antonio)   \n",
       "4        106103              Hospital Claudio Vicuña (San Antonio)   \n",
       "\n",
       "   CIP_ENCRIPTADO    SEXO FECHA_NACIMIENTO            SERVICIO_SALUD  \\\n",
       "0      72196813.0  HOMBRE       1980-04-13                  VALDIVIA   \n",
       "1             NaN  HOMBRE       2001-11-04  METROPOLITANO SURORIENTE   \n",
       "2      97627974.0  HOMBRE       2020-07-30  METROPOLITANO SURORIENTE   \n",
       "3      67770674.0   MUJER       1978-11-14    VALPARAISO SAN ANTONIO   \n",
       "4     100390800.0   MUJER       2023-12-20    VALPARAISO SAN ANTONIO   \n",
       "\n",
       "  TIPO_INGRESO FECHA_INGRESO  FECHA_ALTA                     TIPO_ALTA  \\\n",
       "0     URGENCIA    2023-03-12  2023-03-14                     DOMICILIO   \n",
       "1     URGENCIA    2023-11-04  2023-11-10                     DOMICILIO   \n",
       "2     URGENCIA    2023-06-07  2023-06-08  HOSPITALIZACIÓN DOMICILIARIA   \n",
       "3   PROGRAMADA    2023-05-25  2023-05-26                     DOMICILIO   \n",
       "4     URGENCIA    2023-12-28  2023-12-30                     DOMICILIO   \n",
       "\n",
       "  DIAGNOSTICO1                                          NOMBRE_IR  \\\n",
       "0        K35.3          MH INFECCIONES GASTROINTESTINALES MAYORES   \n",
       "1        J93.1   PH PROCEDIMIENTOS MODERADAMENTE COMPLEJOS SOB...   \n",
       "2        J12.1                    MH NEUMONÍA SIMPLE Y TOS FERINA   \n",
       "3        N39.3   PH HISTERECTOMIA VAGINAL Y OTROS PROCEDIMIENT...   \n",
       "4          R17   MH ENFERMEDADES HEPÁTICAS EXCEPTO NEOPLASIAS,...   \n",
       "\n",
       "   IR_29301_COD_GRD  IR_29301_PESO  IR_29301_SEVERIDAD  IR_29301_MORTALIDAD  \\\n",
       "0           64161.0         0.7094                 1.0                  1.0   \n",
       "1           41301.0         1.0869                 1.0                  1.0   \n",
       "2           44161.0         0.4084                 1.0                  1.0   \n",
       "3          131301.0         0.6406                 1.0                  1.0   \n",
       "4           74131.0         0.5346                 1.0                  1.0   \n",
       "\n",
       "   EDAD  DIAS_ESTANCIA  FALLECIDO  \n",
       "0  43.0              2          0  \n",
       "1  22.0              6          0  \n",
       "2   3.0              1          0  \n",
       "3  45.0              1          0  \n",
       "4   0.0              2          0  "
      ]
     },
     "execution_count": 5,
     "metadata": {},
     "output_type": "execute_result"
    }
   ],
   "source": [
    "#Vemos quienes murieron y creamos una columna boinaria \"Fallecido\"\n",
    "falle = grd_f[\"TIPO_ALTA\"] == \"FALLECIDO\"\n",
    "grd_f[\"FALLECIDO\"] = falle.astype(int)\n",
    "grd_f.head(5)"
   ]
  },
  {
   "cell_type": "code",
   "execution_count": 6,
   "metadata": {},
   "outputs": [
    {
     "data": {
      "text/plain": [
       "Index(['COD_HOSPITAL', 'NOMBRE_HOSPITAL', 'CIP_ENCRIPTADO', 'SEXO',\n",
       "       'FECHA_NACIMIENTO', 'SERVICIO_SALUD', 'TIPO_INGRESO', 'FECHA_INGRESO',\n",
       "       'FECHA_ALTA', 'TIPO_ALTA', 'DIAGNOSTICO1', 'NOMBRE_IR',\n",
       "       'IR_29301_COD_GRD', 'IR_29301_PESO', 'IR_29301_SEVERIDAD',\n",
       "       'IR_29301_MORTALIDAD', 'EDAD', 'DIAS_ESTANCIA', 'FALLECIDO'],\n",
       "      dtype='object')"
      ]
     },
     "execution_count": 6,
     "metadata": {},
     "output_type": "execute_result"
    }
   ],
   "source": [
    "grd_f.columns"
   ]
  },
  {
   "cell_type": "markdown",
   "metadata": {},
   "source": [
    "De ahora en adelante hay que seleccionar que variables considerar para el modelo"
   ]
  },
  {
   "cell_type": "code",
   "execution_count": 7,
   "metadata": {},
   "outputs": [
    {
     "name": "stdout",
     "output_type": "stream",
     "text": [
      "IR_29301_MORTALIDAD\n",
      "0.0    0.000031\n",
      "1.0    0.001709\n",
      "2.0    0.015999\n",
      "3.0    0.127126\n",
      "Name: FALLECIDO, dtype: float64\n"
     ]
    }
   ],
   "source": [
    "# Group by 'IR_29301_MORTALIDAD' and calculate the sum and count of 'TIPO_ALTA'\n",
    "grouped = grd_f.groupby(\"IR_29301_MORTALIDAD\")[\"FALLECIDO\"]\n",
    "\n",
    "# Calculate the mean by dividing the sum by the count\n",
    "result = grouped.sum() / grouped.count()\n",
    "\n",
    "print(result)"
   ]
  },
  {
   "cell_type": "code",
   "execution_count": null,
   "metadata": {},
   "outputs": [
    {
     "name": "stdout",
     "output_type": "stream",
     "text": [
      "Matriz de correlación (Spearman):\n",
      "                     IR_29301_SEVERIDAD  FALLECIDO  IR_29301_MORTALIDAD\n",
      "IR_29301_SEVERIDAD             1.000000   0.208357             0.876098\n",
      "FALLECIDO                      0.208357   1.000000             0.224917\n",
      "IR_29301_MORTALIDAD            0.876098   0.224917             1.000000\n"
     ]
    }
   ],
   "source": [
    "from scipy.stats import spearmanr\n",
    "df = grd_f[[\"IR_29301_SEVERIDAD\",\"FALLECIDO\",\"IR_29301_MORTALIDAD\"]]\n",
    "correlation_matrix = df.corr(method='spearman')\n",
    "print(\"Matriz de correlación (Spearman):\")\n",
    "print(correlation_matrix)"
   ]
  },
  {
   "cell_type": "markdown",
   "metadata": {},
   "source": [
    "Se puede apreciar claramente que a mayor mortalidad otorgada al paciente, mayor es la tase de fallecimiento de este. ahora veremos si adicionalmente juega un papel el rango de edad de los pacientes"
   ]
  },
  {
   "cell_type": "code",
   "execution_count": 9,
   "metadata": {},
   "outputs": [
    {
     "name": "stdout",
     "output_type": "stream",
     "text": [
      "         EDAD         AGE_GROUP\n",
      "0        43.0           Adultez\n",
      "1        22.0          Juventud\n",
      "2         3.0  Primera infancia\n",
      "3        45.0           Adultez\n",
      "4         0.0  Primera infancia\n",
      "...       ...               ...\n",
      "1039582  27.0           Adultez\n",
      "1039583  32.0           Adultez\n",
      "1039584   9.0          Infancia\n",
      "1039585   9.0          Infancia\n",
      "1039586  72.0     Persona mayor\n",
      "\n",
      "[1039587 rows x 2 columns]\n"
     ]
    }
   ],
   "source": [
    "# Se definen los rangos etarios (utilizando un valor menor a 0 para que se consideren valores = 0)\n",
    "bins = [-0.1, 5, 11, 17, 26, 59, float('inf')]\n",
    "labels = ['Primera infancia', 'Infancia', 'Adolescencia', 'Juventud', 'Adultez', 'Persona mayor']\n",
    "\n",
    "# Crear una nueva columna con los rangos etarios\n",
    "grd_f['AGE_GROUP'] = pd.cut(grd_f['EDAD'], bins=bins, labels=labels, right=True)\n",
    "\n",
    "print(grd_f[['EDAD', 'AGE_GROUP']])"
   ]
  },
  {
   "cell_type": "code",
   "execution_count": 10,
   "metadata": {},
   "outputs": [
    {
     "name": "stdout",
     "output_type": "stream",
     "text": [
      "AGE_GROUP         IR_29301_MORTALIDAD\n",
      "Primera infancia  0.0                    0.000155\n",
      "                  1.0                    0.000894\n",
      "                  2.0                    0.007123\n",
      "                  3.0                    0.019715\n",
      "Infancia          0.0                    0.000000\n",
      "                  1.0                    0.000049\n",
      "                  2.0                    0.001149\n",
      "                  3.0                    0.012495\n",
      "Adolescencia      0.0                    0.000000\n",
      "                  1.0                    0.000038\n",
      "                  2.0                    0.002733\n",
      "                  3.0                    0.037333\n",
      "Juventud          0.0                    0.000000\n",
      "                  1.0                    0.000227\n",
      "                  2.0                    0.003972\n",
      "                  3.0                    0.068842\n",
      "Adultez           0.0                    0.000041\n",
      "                  1.0                    0.000704\n",
      "                  2.0                    0.008010\n",
      "                  3.0                    0.108347\n",
      "Persona mayor     0.0                    0.000023\n",
      "                  1.0                    0.006297\n",
      "                  2.0                    0.024705\n",
      "                  3.0                    0.177782\n",
      "Name: FALLECIDO, dtype: float64\n"
     ]
    },
    {
     "name": "stderr",
     "output_type": "stream",
     "text": [
      "C:\\Users\\joaco\\AppData\\Local\\Temp\\ipykernel_3624\\3272127332.py:2: FutureWarning: The default of observed=False is deprecated and will be changed to True in a future version of pandas. Pass observed=False to retain current behavior or observed=True to adopt the future default and silence this warning.\n",
      "  grouped = grd_f.groupby([\"AGE_GROUP\", \"IR_29301_MORTALIDAD\"])[\"FALLECIDO\"]\n"
     ]
    }
   ],
   "source": [
    "# se agrupan los valores por rango etario y por mortalidad \n",
    "grouped = grd_f.groupby([\"AGE_GROUP\", \"IR_29301_MORTALIDAD\"])[\"FALLECIDO\"]\n",
    "\n",
    "# se calcula la tasa de mortalidad para cada uno de estos grupos\n",
    "result = grouped.sum() / grouped.count()\n",
    "\n",
    "print(result)"
   ]
  },
  {
   "cell_type": "markdown",
   "metadata": {},
   "source": [
    "Ahora revisaremos especificamente con mortalidad 3, donde se espera encontrar la mayor variabilidad"
   ]
  },
  {
   "cell_type": "code",
   "execution_count": 11,
   "metadata": {},
   "outputs": [
    {
     "name": "stdout",
     "output_type": "stream",
     "text": [
      "AGE_GROUP\n",
      "Primera infancia    0.019715\n",
      "Infancia            0.012495\n",
      "Adolescencia        0.037333\n",
      "Juventud            0.068842\n",
      "Adultez             0.108347\n",
      "Persona mayor       0.177782\n",
      "Name: FALLECIDO, dtype: float64\n"
     ]
    },
    {
     "name": "stderr",
     "output_type": "stream",
     "text": [
      "C:\\Users\\joaco\\AppData\\Local\\Temp\\ipykernel_3624\\1907012193.py:5: FutureWarning: The default of observed=False is deprecated and will be changed to True in a future version of pandas. Pass observed=False to retain current behavior or observed=True to adopt the future default and silence this warning.\n",
      "  grouped = filtered_df.groupby(\"AGE_GROUP\")[\"FALLECIDO\"]\n"
     ]
    }
   ],
   "source": [
    "# Se filtran los pacientes a aquellos con mortalidad igual a 3\n",
    "filtered_df = grd_f[grd_f[\"IR_29301_MORTALIDAD\"] == 3]\n",
    "\n",
    "# Se agrupan los valores por rango etario\n",
    "grouped = filtered_df.groupby(\"AGE_GROUP\")[\"FALLECIDO\"]\n",
    "\n",
    "# se calcula la tasa de mortalidad\n",
    "result = grouped.sum() / grouped.count()\n",
    "\n",
    "print(result)"
   ]
  },
  {
   "cell_type": "code",
   "execution_count": 12,
   "metadata": {},
   "outputs": [
    {
     "name": "stderr",
     "output_type": "stream",
     "text": [
      "C:\\Users\\joaco\\AppData\\Local\\Temp\\ipykernel_3624\\136869510.py:2: FutureWarning: The default of observed=False is deprecated and will be changed to True in a future version of pandas. Pass observed=False to retain current behavior or observed=True to adopt the future default and silence this warning.\n",
      "  grouped = grd_f.groupby([\"AGE_GROUP\", \"IR_29301_MORTALIDAD\"])[\"FALLECIDO\"]\n"
     ]
    },
    {
     "data": {
      "image/png": "[encoded data removed]",
      "text/plain": [
       "<Figure size 1000x600 with 1 Axes>"
      ]
     },
     "metadata": {},
     "output_type": "display_data"
    }
   ],
   "source": [
    "# Group by 'AGE_GROUP' and 'IR_29301_MORTALIDAD', then calculate the mean\n",
    "grouped = grd_f.groupby([\"AGE_GROUP\", \"IR_29301_MORTALIDAD\"])[\"FALLECIDO\"]\n",
    "result = (grouped.sum() / grouped.count()).unstack()  # Unstack for better visualization\n",
    "\n",
    "# Plot the result as a bar chart\n",
    "result.plot(kind=\"bar\", figsize=(10, 6))\n",
    "\n",
    "# Add labels and title\n",
    "plt.title(\"Tasa de mortalidad por grupo etario y por IR_29301_MORTALIDAD\")\n",
    "plt.xlabel(\"Grupo etario\")\n",
    "plt.ylabel(\"Tasa de mortalidad\")\n",
    "plt.legend(title=\"IR_29301_MORTALIDAD\", bbox_to_anchor=(1.05, 1), loc=\"upper left\")\n",
    "plt.tight_layout()\n",
    "\n",
    "# Show the plot\n",
    "plt.show()"
   ]
  },
  {
   "cell_type": "code",
   "execution_count": 13,
   "metadata": {},
   "outputs": [
    {
     "data": {
      "text/plain": [
       "NOMBRE_HOSPITAL\n",
       " Hospital de Urgencia Asistencia Pública Dr. Alejandro del Río            0.059886\n",
       " Instituto Nacional de Enfermedades Respiratorias y Cirugía Torácica      0.043684\n",
       " Hospital Clínico Metropolitano El Carmen Doctor Luis Valentín Ferrada    0.039677\n",
       " Hospital Barros Luco Trudeau (Santiago, San Miguel)                      0.037789\n",
       " Hospital Claudio Vicuña (San Antonio)                                    0.034376\n",
       " Hospital Adalberto Steeger (Talagante)                                   0.033946\n",
       " Hospital Dr. Leonardo Guzmán (Antofagasta)                               0.032976\n",
       " Hospital Regional de Rancagua                                            0.031877\n",
       " Hospital Dr. Félix Bulnes Cerda (Santiago, Quinta Normal)                0.031481\n",
       " Hospital San Luis (Buin)                                                 0.031132\n",
       "Name: count, dtype: float64"
      ]
     },
     "execution_count": 13,
     "metadata": {},
     "output_type": "execute_result"
    }
   ],
   "source": [
    "\n",
    "# Filtra las filas de grd_f donde la columna 'FALLECIDO' es igual a 1, \n",
    "# lo que indica que la persona está registrada como fallecida. \n",
    "# El DataFrame resultante contiene solo las filas correspondientes a los fallecidos.\n",
    "por_hosp = grd_f[grd_f[\"FALLECIDO\"] == 1]\n",
    "\n",
    "# Cuenta cuántos fallecidos hay en cada hospital según la columna 'NOMBRE_HOSPITAL' \n",
    "# en el DataFrame por_hosp. Devuelve un conteo de la cantidad de fallecidos por hospital.\n",
    "m_por_hosp = por_hosp[\"NOMBRE_HOSPITAL\"].value_counts()\n",
    "\n",
    "# Cuenta cuántas personas hay registradas en cada hospital según la columna 'NOMBRE_HOSPITAL' \n",
    "# en el DataFrame grd_f. Devuelve un conteo total de personas por hospital.\n",
    "a_por_hosp = grd_f[\"NOMBRE_HOSPITAL\"].value_counts()\n",
    "\n",
    "# Calcula la tasa de mortalidad por hospital dividiendo el número de fallecidos en cada hospital \n",
    "# (m_por_hosp) entre el número total de personas en ese hospital (a_por_hosp).\n",
    "# El resultado es una serie que muestra la tasa de mortalidad por hospital.\n",
    "tasa = m_por_hosp / a_por_hosp\n",
    "\n",
    "# Ordena los valores de tasa en orden descendente para ver los hospitales con las tasas de mortalidad más altas.\n",
    "# El parámetro 'inplace=True' modifica el DataFrame o serie original en lugar de crear uno nuevo.\n",
    "tasa.sort_values(ascending=False, inplace=True)\n",
    "\n",
    "# Imprime la serie tasa con las tasas de mortalidad por hospital ordenadas de mayor a menor.\n",
    "tasa.head(10)"
   ]
  },
  {
   "cell_type": "markdown",
   "metadata": {},
   "source": [
    "Ahora analizaremos el Hospitalde Urgencia Asistencia Pública Dr. Alejandro del Río, el cual posee la tasa de mortalidad mas alta"
   ]
  },
  {
   "cell_type": "code",
   "execution_count": 14,
   "metadata": {},
   "outputs": [
    {
     "data": {
      "text/plain": [
       "AGE_GROUP\n",
       "Persona mayor       5097\n",
       "Adultez             5080\n",
       "Juventud             906\n",
       "Adolescencia         153\n",
       "Primera infancia       1\n",
       "Infancia               1\n",
       "Name: count, dtype: int64"
      ]
     },
     "execution_count": 14,
     "metadata": {},
     "output_type": "execute_result"
    }
   ],
   "source": [
    "hospital_df = grd_f[grd_f[\"NOMBRE_HOSPITAL\"] == \" Hospital de Urgencia Asistencia Pública Dr. Alejandro del Río\"]\n",
    "hospital_df[\"AGE_GROUP\"].value_counts()"
   ]
  },
  {
   "cell_type": "markdown",
   "metadata": {},
   "source": [
    "Se puede observar que solo se presenta un paciente en los rangos etarios Primera infancia e Infancia, es mejor eliminarlos del grafico, debido a que afectaran el analisis como outliers"
   ]
  },
  {
   "cell_type": "code",
   "execution_count": 15,
   "metadata": {},
   "outputs": [
    {
     "data": {
      "text/plain": [
       "AGE_GROUP\n",
       "Persona mayor       5097\n",
       "Adultez             5080\n",
       "Juventud             906\n",
       "Adolescencia         153\n",
       "Primera infancia       0\n",
       "Infancia               0\n",
       "Name: count, dtype: int64"
      ]
     },
     "execution_count": 15,
     "metadata": {},
     "output_type": "execute_result"
    }
   ],
   "source": [
    "# Remover los pacientes del grupo etario Primera infancia e infancia\n",
    "hospital_df = hospital_df[~hospital_df[\"AGE_GROUP\"].isin([\"Primera infancia\", \"Infancia\"])]\n",
    "hospital_df[\"AGE_GROUP\"].value_counts()"
   ]
  },
  {
   "cell_type": "markdown",
   "metadata": {},
   "source": [
    "Ahora graficaremos las tasas de mortalidad por grupo etario y valor de mortalidad asignado, para poder visualizar de mejor forma los datos"
   ]
  },
  {
   "cell_type": "code",
   "execution_count": 16,
   "metadata": {},
   "outputs": [
    {
     "name": "stderr",
     "output_type": "stream",
     "text": [
      "C:\\Users\\joaco\\AppData\\Local\\Temp\\ipykernel_3624\\134800227.py:2: FutureWarning: The default of observed=False is deprecated and will be changed to True in a future version of pandas. Pass observed=False to retain current behavior or observed=True to adopt the future default and silence this warning.\n",
      "  grouped = hospital_df.groupby([\"AGE_GROUP\", \"IR_29301_MORTALIDAD\"])[\"FALLECIDO\"]\n"
     ]
    },
    {
     "data": {
      "image/png": "[encoded data removed]",
      "text/plain": [
       "<Figure size 1000x600 with 1 Axes>"
      ]
     },
     "metadata": {},
     "output_type": "display_data"
    }
   ],
   "source": [
    "#Agrupar por edad y mortalidad, para calcular la tasa de mortalidad\n",
    "grouped = hospital_df.groupby([\"AGE_GROUP\", \"IR_29301_MORTALIDAD\"])[\"FALLECIDO\"]\n",
    "result = (grouped.sum() / grouped.count()).unstack()  # Unstack for better visualization\n",
    "\n",
    "# Crear el grafico de barras agrupadas\n",
    "result.plot(kind=\"bar\", figsize=(10, 6), color=[\"skyblue\", \"orange\", \"green\", \"red\", \"purple\"])\n",
    "\n",
    "# Asignar titulo y nombres de ejes al grafico\n",
    "plt.title(\"Tasa de mortalidad por grupo etario e IR_29301_MORTALIDAD\\n( Hospital de Urgencia Asistencia Pública Dr. Alejandro del Río)\")\n",
    "plt.xlabel(\"Grupo etario\")\n",
    "plt.ylabel(\"Tasa de mortalidad\")\n",
    "plt.legend(title=\"IR_29301_MORTALIDAD\", bbox_to_anchor=(1.05, 1), loc=\"upper left\")\n",
    "plt.xticks(rotation=45)\n",
    "plt.tight_layout()\n",
    "\n",
    "# Mostrar el grafico\n",
    "plt.show()"
   ]
  },
  {
   "cell_type": "markdown",
   "metadata": {},
   "source": [
    "Ahora hacemos un grafico para visualizar la tasa de mortalidad por sexo y grupo etario de todos los datos en el DataFrame"
   ]
  },
  {
   "cell_type": "code",
   "execution_count": 17,
   "metadata": {},
   "outputs": [
    {
     "name": "stderr",
     "output_type": "stream",
     "text": [
      "C:\\Users\\joaco\\AppData\\Local\\Temp\\ipykernel_3624\\2669223604.py:3: FutureWarning: The default of observed=False is deprecated and will be changed to True in a future version of pandas. Pass observed=False to retain current behavior or observed=True to adopt the future default and silence this warning.\n",
      "  grouped_hombres = hombres_df.groupby([\"AGE_GROUP\", \"IR_29301_MORTALIDAD\"])[\"FALLECIDO\"]\n"
     ]
    },
    {
     "name": "stdout",
     "output_type": "stream",
     "text": [
      "Mortality Rate for HOMBRES:\n",
      "IR_29301_MORTALIDAD       0.0       1.0       2.0       3.0\n",
      "AGE_GROUP                                                  \n",
      "Primera infancia     0.000201  0.000913  0.008059  0.019282\n",
      "Infancia             0.000000  0.000082  0.001384  0.011606\n",
      "Adolescencia         0.000000  0.000000  0.004872  0.042088\n",
      "Juventud             0.000000  0.000843  0.006667  0.083374\n",
      "Adultez              0.000038  0.001991  0.010447  0.116730\n",
      "Persona mayor        0.000055  0.006635  0.023942  0.179039\n",
      "\n",
      "Mortality Rate for MUJERES:\n",
      "IR_29301_MORTALIDAD       0.0       1.0       2.0       3.0\n",
      "AGE_GROUP                                                  \n",
      "Primera infancia     0.000000  0.000873  0.005947  0.020123\n",
      "Infancia             0.000000  0.000000  0.000858  0.013464\n",
      "Adolescencia         0.000000  0.000069  0.000992  0.032015\n",
      "Juventud             0.000000  0.000097  0.002081  0.050314\n",
      "Adultez              0.000042  0.000303  0.005848  0.097954\n",
      "Persona mayor        0.000000  0.005988  0.025490  0.176393\n"
     ]
    },
    {
     "name": "stderr",
     "output_type": "stream",
     "text": [
      "C:\\Users\\joaco\\AppData\\Local\\Temp\\ipykernel_3624\\2669223604.py:8: FutureWarning: The default of observed=False is deprecated and will be changed to True in a future version of pandas. Pass observed=False to retain current behavior or observed=True to adopt the future default and silence this warning.\n",
      "  grouped_mujeres = mujeres_df.groupby([\"AGE_GROUP\", \"IR_29301_MORTALIDAD\"])[\"FALLECIDO\"]\n"
     ]
    }
   ],
   "source": [
    "# filtrar para SEXO = HOMBRE\n",
    "hombres_df = grd_f[grd_f[\"SEXO\"] == \"HOMBRE\"]\n",
    "grouped_hombres = hombres_df.groupby([\"AGE_GROUP\", \"IR_29301_MORTALIDAD\"])[\"FALLECIDO\"]\n",
    "result_hombres = (grouped_hombres.sum() / grouped_hombres.count()).unstack()\n",
    "\n",
    "# Filtrar para SEXO = MUJER\n",
    "mujeres_df = grd_f[grd_f[\"SEXO\"] == \"MUJER\"]\n",
    "grouped_mujeres = mujeres_df.groupby([\"AGE_GROUP\", \"IR_29301_MORTALIDAD\"])[\"FALLECIDO\"]\n",
    "result_mujeres = (grouped_mujeres.sum() / grouped_mujeres.count()).unstack()\n",
    "\n",
    "# Mostrar los valores para los grupos etarios y mortalidad para pacientes de sexo hombre y mujer\n",
    "print(\"Mortality Rate for HOMBRES:\")\n",
    "print(result_hombres)\n",
    "\n",
    "print(\"\\nMortality Rate for MUJERES:\")\n",
    "print(result_mujeres)"
   ]
  },
  {
   "cell_type": "code",
   "execution_count": 18,
   "metadata": {},
   "outputs": [
    {
     "data": {
      "image/png": "[encoded data removed]",
      "text/plain": [
       "<Figure size 1000x600 with 1 Axes>"
      ]
     },
     "metadata": {},
     "output_type": "display_data"
    }
   ],
   "source": [
    "# Filtrar resultados de pacientes con IR_29301_MORTALIDAD == 3\n",
    "hombres_mortalidad_3 = result_hombres[3]\n",
    "mujeres_mortalidad_3 = result_mujeres[3]\n",
    "\n",
    "# Crear grafico de barras agrupadas por grupo etario\n",
    "x = np.arange(len(hombres_mortalidad_3.index))  \n",
    "width = 0.35\n",
    "\n",
    "fig, ax = plt.subplots(figsize=(10, 6))\n",
    "\n",
    "# Mostrar datos de HOMBRES\n",
    "ax.bar(x - width / 2, hombres_mortalidad_3, width, label=\"HOMBRES\", color=\"skyblue\", edgecolor=\"black\")\n",
    "\n",
    "# Mostrar datos de MUJERES\n",
    "ax.bar(x + width / 2, mujeres_mortalidad_3, width, label=\"MUJERES\", color=\"orange\", edgecolor=\"black\")\n",
    "\n",
    "# Se define el rango de valores del eje Y para estandarizar\n",
    "y_ticks = np.arange(0.000, 0.201, 0.025)\n",
    "ax.set_yticks(y_ticks)\n",
    "\n",
    "# Agregar Titulo y nombre de ejer\n",
    "ax.set_title(\"Tasa de mortalidad por grupo etario (IR_29301_MORTALIDAD = 3)\\nHospital de Urgencia Asistencia Pública Dr. Alejandro del Río\")\n",
    "ax.set_xlabel(\"Grupo etario\")\n",
    "ax.set_ylabel(\"Tasa de mortalidad\")\n",
    "ax.legend(title=\"SEXO\")\n",
    "ax.set_xticks(x)\n",
    "ax.set_xticklabels(hombres_mortalidad_3.index, rotation=45)\n",
    "\n",
    "# Adjust layout and show the plot\n",
    "plt.tight_layout()\n",
    "plt.show()"
   ]
  },
  {
   "cell_type": "markdown",
   "metadata": {},
   "source": [
    "Ahora se realizaran los mismos graficos pero para el hospital "
   ]
  },
  {
   "cell_type": "code",
   "execution_count": 19,
   "metadata": {},
   "outputs": [
    {
     "name": "stdout",
     "output_type": "stream",
     "text": [
      "Mortality Rate for HOMBRES:\n",
      "IR_29301_MORTALIDAD  0.0       1.0       2.0       3.0\n",
      "AGE_GROUP                                             \n",
      "Primera infancia     NaN       NaN       NaN       NaN\n",
      "Infancia             NaN       NaN       NaN       NaN\n",
      "Adolescencia         NaN  0.000000  0.000000  0.100000\n",
      "Juventud             0.0  0.000000  0.032787  0.086957\n",
      "Adultez              0.0  0.002136  0.020661  0.132231\n",
      "Persona mayor        0.0  0.020619  0.018519  0.184889\n",
      "\n",
      "Mortality Rate for MUJERES:\n",
      "IR_29301_MORTALIDAD  0.0       1.0       2.0       3.0\n",
      "AGE_GROUP                                             \n",
      "Primera infancia     NaN       NaN       NaN       NaN\n",
      "Infancia             NaN       NaN       NaN       NaN\n",
      "Adolescencia         NaN  0.000000  0.000000  0.000000\n",
      "Juventud             0.0  0.000000  0.022727  0.040816\n",
      "Adultez              0.0  0.004230  0.025735  0.104326\n",
      "Persona mayor        0.0  0.007702  0.030000  0.195848\n"
     ]
    },
    {
     "name": "stderr",
     "output_type": "stream",
     "text": [
      "C:\\Users\\joaco\\AppData\\Local\\Temp\\ipykernel_3624\\851184137.py:2: FutureWarning: The default of observed=False is deprecated and will be changed to True in a future version of pandas. Pass observed=False to retain current behavior or observed=True to adopt the future default and silence this warning.\n",
      "  grouped_hombres2 = hombres_df2.groupby([\"AGE_GROUP\", \"IR_29301_MORTALIDAD\"])[\"FALLECIDO\"]\n",
      "C:\\Users\\joaco\\AppData\\Local\\Temp\\ipykernel_3624\\851184137.py:7: FutureWarning: The default of observed=False is deprecated and will be changed to True in a future version of pandas. Pass observed=False to retain current behavior or observed=True to adopt the future default and silence this warning.\n",
      "  grouped_mujeres2 = mujeres_df2.groupby([\"AGE_GROUP\", \"IR_29301_MORTALIDAD\"])[\"FALLECIDO\"]\n"
     ]
    }
   ],
   "source": [
    "hombres_df2 = hospital_df[hospital_df[\"SEXO\"] == \"HOMBRE\"]\n",
    "grouped_hombres2 = hombres_df2.groupby([\"AGE_GROUP\", \"IR_29301_MORTALIDAD\"])[\"FALLECIDO\"]\n",
    "result_hombres2 = (grouped_hombres2.sum() / grouped_hombres2.count()).unstack()\n",
    "\n",
    "\n",
    "mujeres_df2 = hospital_df[hospital_df[\"SEXO\"] == \"MUJER\"]\n",
    "grouped_mujeres2 = mujeres_df2.groupby([\"AGE_GROUP\", \"IR_29301_MORTALIDAD\"])[\"FALLECIDO\"]\n",
    "result_mujeres2 = (grouped_mujeres2.sum() / grouped_mujeres2.count()).unstack()\n",
    "\n",
    "\n",
    "print(\"Mortality Rate for HOMBRES:\")\n",
    "print(result_hombres2)\n",
    "\n",
    "print(\"\\nMortality Rate for MUJERES:\")\n",
    "print(result_mujeres2)"
   ]
  },
  {
   "cell_type": "code",
   "execution_count": 20,
   "metadata": {},
   "outputs": [
    {
     "data": {
      "image/png": "[encoded data removed]",
      "text/plain": [
       "<Figure size 1000x600 with 1 Axes>"
      ]
     },
     "metadata": {},
     "output_type": "display_data"
    }
   ],
   "source": [
    "hombres_mortalidad2 = result_hombres2[3]\n",
    "mujeres_mortalidad2 = result_mujeres2[3]\n",
    "\n",
    "x = np.arange(len(hombres_mortalidad_3.index))  \n",
    "width = 0.35  \\\n",
    "\n",
    "fig, ax = plt.subplots(figsize=(10, 6))\n",
    "\n",
    "\n",
    "ax.bar(x - width / 2, hombres_mortalidad2, width, label=\"HOMBRES\", color=\"skyblue\", edgecolor=\"black\")\n",
    "\n",
    "\n",
    "ax.bar(x + width / 2, mujeres_mortalidad2, width, label=\"MUJERES\", color=\"orange\", edgecolor=\"black\")\n",
    "\n",
    "\n",
    "ax.set_title(\"Mortality Rate by Age Group (IR_29301_MORTALIDAD = 3)\\nHospital de Urgencia Asistencia Pública Dr. Alejandro del Río\")\n",
    "ax.set_xlabel(\"Age Group\")\n",
    "ax.set_ylabel(\"Mortality Rate\")\n",
    "ax.legend(title=\"SEXO\")\n",
    "ax.set_xticks(x)\n",
    "ax.set_xticklabels(hombres_mortalidad2.index, rotation=45)\n",
    "\n",
    "\n",
    "plt.tight_layout()\n",
    "plt.show()"
   ]
  },
  {
   "cell_type": "code",
   "execution_count": 21,
   "metadata": {},
   "outputs": [],
   "source": [
    "grd_f.drop([\"COD_HOSPITAL\",\"CIP_ENCRIPTADO\",\"FECHA_NACIMIENTO\",\n",
    "          \"SERVICIO_SALUD\",\"FECHA_INGRESO\",\"FECHA_ALTA\",\"TIPO_ALTA\",\n",
    "          \"TIPO_ALTA\",\"DIAGNOSTICO1\",\"NOMBRE_IR\",'IR_29301_COD_GRD', 'IR_29301_PESO'], axis=1, inplace= True)"
   ]
  },
  {
   "cell_type": "code",
   "execution_count": 22,
   "metadata": {},
   "outputs": [
    {
     "data": {
      "text/plain": [
       "68"
      ]
     },
     "execution_count": 22,
     "metadata": {},
     "output_type": "execute_result"
    }
   ],
   "source": [
    "len(grd_f[\"NOMBRE_HOSPITAL\"].unique())"
   ]
  },
  {
   "cell_type": "code",
   "execution_count": 23,
   "metadata": {},
   "outputs": [],
   "source": [
    "cuenta = grd_f[\"NOMBRE_HOSPITAL\"].value_counts()"
   ]
  },
  {
   "cell_type": "code",
   "execution_count": 24,
   "metadata": {},
   "outputs": [
    {
     "data": {
      "text/plain": [
       "(68,)"
      ]
     },
     "execution_count": 24,
     "metadata": {},
     "output_type": "execute_result"
    }
   ],
   "source": [
    "cuenta.shape"
   ]
  },
  {
   "cell_type": "markdown",
   "metadata": {},
   "source": [
    "Ya que la cantidad de hospitales es sustancial, y habrá que transformarlos a dummies, vamos a reducir el número viendo aquellos que tengan pocos pacientes atendidos. Para esto, vamos a eliminar todos los hospitales que hayan atendido menos del X% de los pacientes. Este threshold puede ser "
   ]
  },
  {
   "cell_type": "code",
   "execution_count": 43,
   "metadata": {},
   "outputs": [
    {
     "data": {
      "text/plain": [
       "<bound method Series.sort_values of NOMBRE_HOSPITAL                                                      \n",
       " Complejo Hospitalario Dr. Sótero del Río (Santiago, Puente Alto)        0.047768\n",
       " Hospital Clínico Regional Dr. Guillermo Grant Benavente (Concepción)    0.032845\n",
       " Hospital Dr. César Garavagno Burotto (Talca)                            0.030928\n",
       " Complejo Asistencial Dr. Víctor Ríos Ruiz (Los Ángeles)                 0.030065\n",
       " Hospital Dr. Hernán Henríquez Aravena (Temuco)                          0.028655\n",
       "                                                                           ...   \n",
       " Hospital Dr. Abraham Godoy (Lautaro)                                    0.004287\n",
       " Hospital de Tomé                                                        0.004263\n",
       " Hospital de Pitrufquén                                                  0.003893\n",
       " Instituto Nacional de Enfermedades Respiratorias y Cirugía Torácica     0.003458\n",
       " Instituto de Neurocirugía Dr. Alfonso Asenjo                            0.003423\n",
       "Name: count, Length: 68, dtype: float64>"
      ]
     },
     "execution_count": 43,
     "metadata": {},
     "output_type": "execute_result"
    }
   ],
   "source": [
    "numero_atendido_hosp = grd_f.value_counts([\"NOMBRE_HOSPITAL\"])\n",
    "Total_atendido = len(grd_f)\n",
    "propor_atend_hosp = numero_atendido_hosp/Total_atendido\n",
    "propor_atend_hosp.sort_values"
   ]
  },
  {
   "cell_type": "markdown",
   "metadata": {},
   "source": [
    "Eliminamos los que no cumplan con el threshold"
   ]
  },
  {
   "cell_type": "code",
   "execution_count": 52,
   "metadata": {},
   "outputs": [
    {
     "data": {
      "text/plain": [
       "NOMBRE_HOSPITAL                                                      \n",
       " Complejo Hospitalario Dr. Sótero del Río (Santiago, Puente Alto)        0.047768\n",
       " Hospital Clínico Regional Dr. Guillermo Grant Benavente (Concepción)    0.032845\n",
       " Hospital Dr. César Garavagno Burotto (Talca)                            0.030928\n",
       " Complejo Asistencial Dr. Víctor Ríos Ruiz (Los Ángeles)                 0.030065\n",
       "Name: count, dtype: float64"
      ]
     },
     "execution_count": 52,
     "metadata": {},
     "output_type": "execute_result"
    }
   ],
   "source": [
    "hospitales_cumplen = propor_atend_hosp[propor_atend_hosp>= 0.03] #Cambiar threshold\n",
    "hospitales_cumplen.head()"
   ]
  },
  {
   "cell_type": "code",
   "execution_count": 53,
   "metadata": {},
   "outputs": [
    {
     "data": {
      "text/plain": [
       "[' Complejo Hospitalario Dr. Sótero del Río (Santiago, Puente Alto)',\n",
       " ' Hospital Clínico Regional Dr. Guillermo Grant Benavente (Concepción)',\n",
       " ' Hospital Dr. César Garavagno Burotto (Talca)',\n",
       " ' Complejo Asistencial Dr. Víctor Ríos Ruiz (Los Ángeles)']"
      ]
     },
     "execution_count": 53,
     "metadata": {},
     "output_type": "execute_result"
    }
   ],
   "source": [
    "hospitales_cumplen2 = hospitales_cumplen.index.to_list()\n",
    "hospitales_cumplen_f = []\n",
    "for i in hospitales_cumplen2:\n",
    "    hospitales_cumplen_f.append(i[0])\n",
    "hospitales_cumplen_f"
   ]
  },
  {
   "cell_type": "code",
   "execution_count": 54,
   "metadata": {},
   "outputs": [
    {
     "data": {
      "text/plain": [
       "4"
      ]
     },
     "execution_count": 54,
     "metadata": {},
     "output_type": "execute_result"
    }
   ],
   "source": [
    "len(hospitales_cumplen_f)"
   ]
  },
  {
   "cell_type": "markdown",
   "metadata": {},
   "source": [
    "Aislamos los pacientes atendidos en los hospitales que cumplen con el threshold"
   ]
  },
  {
   "cell_type": "code",
   "execution_count": 30,
   "metadata": {},
   "outputs": [
    {
     "data": {
      "text/plain": [
       "count       147196\n",
       "unique           3\n",
       "top       URGENCIA\n",
       "freq         68307\n",
       "Name: TIPO_INGRESO, dtype: object"
      ]
     },
     "execution_count": 30,
     "metadata": {},
     "output_type": "execute_result"
    }
   ],
   "source": [
    "Casos[\"TIPO_INGRESO\"].describe()"
   ]
  },
  {
   "cell_type": "code",
   "execution_count": 41,
   "metadata": {},
   "outputs": [
    {
     "data": {
      "text/plain": [
       "<bound method Series.sort_values of TIPO_INGRESO\n",
       "URGENCIA        0.498885\n",
       "PROGRAMADA      0.352453\n",
       "OBSTETRICA      0.148662\n",
       "Name: count, dtype: float64>"
      ]
     },
     "execution_count": 41,
     "metadata": {},
     "output_type": "execute_result"
    }
   ],
   "source": [
    "numero_tipos_ingreso = grd_f.value_counts([\"TIPO_INGRESO\"])\n",
    "Total_atendido = len(grd_f)\n",
    "propor_atend_hosp = numero_tipos_ingreso/Total_atendido\n",
    "propor_atend_hosp.sort_values"
   ]
  },
  {
   "cell_type": "code",
   "execution_count": 31,
   "metadata": {},
   "outputs": [
    {
     "data": {
      "text/plain": [
       "6"
      ]
     },
     "execution_count": 31,
     "metadata": {},
     "output_type": "execute_result"
    }
   ],
   "source": [
    "#verificamos si hay filas nulas\n",
    "grd_f.isna().any().sum()"
   ]
  },
  {
   "cell_type": "code",
   "execution_count": 32,
   "metadata": {},
   "outputs": [],
   "source": [
    "#al ser tan pocas columnas nulas respecto al total de datos se deciden elimiar\n",
    "grd_f = grd_f.dropna()\n",
    "\n",
    "# Se reinician los indeices luego de eliminar las filas nulas\n",
    "grd_f = grd_f.reset_index(drop=True)"
   ]
  },
  {
   "cell_type": "code",
   "execution_count": 28,
   "metadata": {},
   "outputs": [
    {
     "data": {
      "text/plain": [
       "0          False\n",
       "1           True\n",
       "2           True\n",
       "3          False\n",
       "4          False\n",
       "           ...  \n",
       "1039582    False\n",
       "1039583     True\n",
       "1039584    False\n",
       "1039585    False\n",
       "1039586    False\n",
       "Name: NOMBRE_HOSPITAL, Length: 1039587, dtype: bool"
      ]
     },
     "execution_count": 28,
     "metadata": {},
     "output_type": "execute_result"
    }
   ],
   "source": [
    "grd_f[\"NOMBRE_HOSPITAL\"].isin(hospitales_cumplen_f)"
   ]
  },
  {
   "cell_type": "code",
   "execution_count": 29,
   "metadata": {},
   "outputs": [
    {
     "data": {
      "text/html": [
       "<div>\n",
       "<style scoped>\n",
       "    .dataframe tbody tr th:only-of-type {\n",
       "        vertical-align: middle;\n",
       "    }\n",
       "\n",
       "    .dataframe tbody tr th {\n",
       "        vertical-align: top;\n",
       "    }\n",
       "\n",
       "    .dataframe thead th {\n",
       "        text-align: right;\n",
       "    }\n",
       "</style>\n",
       "<table border=\"1\" class=\"dataframe\">\n",
       "  <thead>\n",
       "    <tr style=\"text-align: right;\">\n",
       "      <th></th>\n",
       "      <th>NOMBRE_HOSPITAL</th>\n",
       "      <th>SEXO</th>\n",
       "      <th>TIPO_INGRESO</th>\n",
       "      <th>IR_29301_SEVERIDAD</th>\n",
       "      <th>IR_29301_MORTALIDAD</th>\n",
       "      <th>EDAD</th>\n",
       "      <th>DIAS_ESTANCIA</th>\n",
       "      <th>FALLECIDO</th>\n",
       "      <th>AGE_GROUP</th>\n",
       "    </tr>\n",
       "  </thead>\n",
       "  <tbody>\n",
       "    <tr>\n",
       "      <th>1</th>\n",
       "      <td>Complejo Hospitalario Dr. Sótero del Río (San...</td>\n",
       "      <td>HOMBRE</td>\n",
       "      <td>URGENCIA</td>\n",
       "      <td>1.0</td>\n",
       "      <td>1.0</td>\n",
       "      <td>22.0</td>\n",
       "      <td>6</td>\n",
       "      <td>0</td>\n",
       "      <td>Juventud</td>\n",
       "    </tr>\n",
       "    <tr>\n",
       "      <th>2</th>\n",
       "      <td>Complejo Hospitalario Dr. Sótero del Río (San...</td>\n",
       "      <td>HOMBRE</td>\n",
       "      <td>URGENCIA</td>\n",
       "      <td>1.0</td>\n",
       "      <td>1.0</td>\n",
       "      <td>3.0</td>\n",
       "      <td>1</td>\n",
       "      <td>0</td>\n",
       "      <td>Primera infancia</td>\n",
       "    </tr>\n",
       "    <tr>\n",
       "      <th>13</th>\n",
       "      <td>Hospital Dr. César Garavagno Burotto (Talca)</td>\n",
       "      <td>MUJER</td>\n",
       "      <td>PROGRAMADA</td>\n",
       "      <td>1.0</td>\n",
       "      <td>1.0</td>\n",
       "      <td>5.0</td>\n",
       "      <td>0</td>\n",
       "      <td>0</td>\n",
       "      <td>Primera infancia</td>\n",
       "    </tr>\n",
       "    <tr>\n",
       "      <th>16</th>\n",
       "      <td>Hospital Dr. César Garavagno Burotto (Talca)</td>\n",
       "      <td>HOMBRE</td>\n",
       "      <td>PROGRAMADA</td>\n",
       "      <td>1.0</td>\n",
       "      <td>1.0</td>\n",
       "      <td>5.0</td>\n",
       "      <td>0</td>\n",
       "      <td>0</td>\n",
       "      <td>Primera infancia</td>\n",
       "    </tr>\n",
       "    <tr>\n",
       "      <th>37</th>\n",
       "      <td>Hospital Dr. César Garavagno Burotto (Talca)</td>\n",
       "      <td>MUJER</td>\n",
       "      <td>PROGRAMADA</td>\n",
       "      <td>3.0</td>\n",
       "      <td>2.0</td>\n",
       "      <td>5.0</td>\n",
       "      <td>0</td>\n",
       "      <td>0</td>\n",
       "      <td>Primera infancia</td>\n",
       "    </tr>\n",
       "    <tr>\n",
       "      <th>...</th>\n",
       "      <td>...</td>\n",
       "      <td>...</td>\n",
       "      <td>...</td>\n",
       "      <td>...</td>\n",
       "      <td>...</td>\n",
       "      <td>...</td>\n",
       "      <td>...</td>\n",
       "      <td>...</td>\n",
       "      <td>...</td>\n",
       "    </tr>\n",
       "    <tr>\n",
       "      <th>1039575</th>\n",
       "      <td>Hospital Dr. César Garavagno Burotto (Talca)</td>\n",
       "      <td>HOMBRE</td>\n",
       "      <td>PROGRAMADA</td>\n",
       "      <td>1.0</td>\n",
       "      <td>1.0</td>\n",
       "      <td>4.0</td>\n",
       "      <td>0</td>\n",
       "      <td>0</td>\n",
       "      <td>Primera infancia</td>\n",
       "    </tr>\n",
       "    <tr>\n",
       "      <th>1039576</th>\n",
       "      <td>Hospital Dr. César Garavagno Burotto (Talca)</td>\n",
       "      <td>HOMBRE</td>\n",
       "      <td>URGENCIA</td>\n",
       "      <td>1.0</td>\n",
       "      <td>1.0</td>\n",
       "      <td>10.0</td>\n",
       "      <td>2</td>\n",
       "      <td>0</td>\n",
       "      <td>Infancia</td>\n",
       "    </tr>\n",
       "    <tr>\n",
       "      <th>1039577</th>\n",
       "      <td>Hospital Dr. César Garavagno Burotto (Talca)</td>\n",
       "      <td>HOMBRE</td>\n",
       "      <td>URGENCIA</td>\n",
       "      <td>1.0</td>\n",
       "      <td>1.0</td>\n",
       "      <td>10.0</td>\n",
       "      <td>2</td>\n",
       "      <td>0</td>\n",
       "      <td>Infancia</td>\n",
       "    </tr>\n",
       "    <tr>\n",
       "      <th>1039580</th>\n",
       "      <td>Hospital Dr. César Garavagno Burotto (Talca)</td>\n",
       "      <td>HOMBRE</td>\n",
       "      <td>PROGRAMADA</td>\n",
       "      <td>0.0</td>\n",
       "      <td>0.0</td>\n",
       "      <td>74.0</td>\n",
       "      <td>0</td>\n",
       "      <td>0</td>\n",
       "      <td>Persona mayor</td>\n",
       "    </tr>\n",
       "    <tr>\n",
       "      <th>1039583</th>\n",
       "      <td>Hospital Clínico Regional Dr. Guillermo Grant...</td>\n",
       "      <td>MUJER</td>\n",
       "      <td>PROGRAMADA</td>\n",
       "      <td>0.0</td>\n",
       "      <td>0.0</td>\n",
       "      <td>32.0</td>\n",
       "      <td>0</td>\n",
       "      <td>0</td>\n",
       "      <td>Adultez</td>\n",
       "    </tr>\n",
       "  </tbody>\n",
       "</table>\n",
       "<p>147196 rows × 9 columns</p>\n",
       "</div>"
      ],
      "text/plain": [
       "                                           NOMBRE_HOSPITAL    SEXO  \\\n",
       "1         Complejo Hospitalario Dr. Sótero del Río (San...  HOMBRE   \n",
       "2         Complejo Hospitalario Dr. Sótero del Río (San...  HOMBRE   \n",
       "13            Hospital Dr. César Garavagno Burotto (Talca)   MUJER   \n",
       "16            Hospital Dr. César Garavagno Burotto (Talca)  HOMBRE   \n",
       "37            Hospital Dr. César Garavagno Burotto (Talca)   MUJER   \n",
       "...                                                    ...     ...   \n",
       "1039575       Hospital Dr. César Garavagno Burotto (Talca)  HOMBRE   \n",
       "1039576       Hospital Dr. César Garavagno Burotto (Talca)  HOMBRE   \n",
       "1039577       Hospital Dr. César Garavagno Burotto (Talca)  HOMBRE   \n",
       "1039580       Hospital Dr. César Garavagno Burotto (Talca)  HOMBRE   \n",
       "1039583   Hospital Clínico Regional Dr. Guillermo Grant...   MUJER   \n",
       "\n",
       "        TIPO_INGRESO  IR_29301_SEVERIDAD  IR_29301_MORTALIDAD  EDAD  \\\n",
       "1           URGENCIA                 1.0                  1.0  22.0   \n",
       "2           URGENCIA                 1.0                  1.0   3.0   \n",
       "13        PROGRAMADA                 1.0                  1.0   5.0   \n",
       "16        PROGRAMADA                 1.0                  1.0   5.0   \n",
       "37        PROGRAMADA                 3.0                  2.0   5.0   \n",
       "...              ...                 ...                  ...   ...   \n",
       "1039575   PROGRAMADA                 1.0                  1.0   4.0   \n",
       "1039576     URGENCIA                 1.0                  1.0  10.0   \n",
       "1039577     URGENCIA                 1.0                  1.0  10.0   \n",
       "1039580   PROGRAMADA                 0.0                  0.0  74.0   \n",
       "1039583   PROGRAMADA                 0.0                  0.0  32.0   \n",
       "\n",
       "         DIAS_ESTANCIA  FALLECIDO         AGE_GROUP  \n",
       "1                    6          0          Juventud  \n",
       "2                    1          0  Primera infancia  \n",
       "13                   0          0  Primera infancia  \n",
       "16                   0          0  Primera infancia  \n",
       "37                   0          0  Primera infancia  \n",
       "...                ...        ...               ...  \n",
       "1039575              0          0  Primera infancia  \n",
       "1039576              2          0          Infancia  \n",
       "1039577              2          0          Infancia  \n",
       "1039580              0          0     Persona mayor  \n",
       "1039583              0          0           Adultez  \n",
       "\n",
       "[147196 rows x 9 columns]"
      ]
     },
     "execution_count": 29,
     "metadata": {},
     "output_type": "execute_result"
    }
   ],
   "source": [
    "Casos = grd_f[grd_f[\"NOMBRE_HOSPITAL\"].isin(hospitales_cumplen_f)]\n",
    "Casos"
   ]
  },
  {
   "cell_type": "code",
   "execution_count": null,
   "metadata": {},
   "outputs": [],
   "source": [
    "dummis = pd.get_dummies(Casos)"
   ]
  },
  {
   "cell_type": "markdown",
   "metadata": {},
   "source": [
    "Ahora, queda hacer el modelo en base al dataframe dummis."
   ]
  }
 ],
 "metadata": {
  "kernelspec": {
   "display_name": "base",
   "language": "python",
   "name": "python3"
  },
  "language_info": {
   "codemirror_mode": {
    "name": "ipython",
    "version": 3
   },
   "file_extension": ".py",
   "mimetype": "text/x-python",
   "name": "python",
   "nbconvert_exporter": "python",
   "pygments_lexer": "ipython3",
   "version": "3.11.7"
  }
 },
 "nbformat": 4,
 "nbformat_minor": 2
}
