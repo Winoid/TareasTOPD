{
 "cells": [
  {
   "cell_type": "code",
   "execution_count": 1,
   "metadata": {},
   "outputs": [
    {
     "data": {
      "text/html": [
       "<div>\n",
       "<style scoped>\n",
       "    .dataframe tbody tr th:only-of-type {\n",
       "        vertical-align: middle;\n",
       "    }\n",
       "\n",
       "    .dataframe tbody tr th {\n",
       "        vertical-align: top;\n",
       "    }\n",
       "\n",
       "    .dataframe thead th {\n",
       "        text-align: right;\n",
       "    }\n",
       "</style>\n",
       "<table border=\"1\" class=\"dataframe\">\n",
       "  <thead>\n",
       "    <tr style=\"text-align: right;\">\n",
       "      <th></th>\n",
       "      <th>0</th>\n",
       "      <th>1</th>\n",
       "    </tr>\n",
       "  </thead>\n",
       "  <tbody>\n",
       "    <tr>\n",
       "      <th>0</th>\n",
       "      <td>11011</td>\n",
       "      <td>PH PROCEDIMIENTOS VASCULARES INTRACRANEALES</td>\n",
       "    </tr>\n",
       "    <tr>\n",
       "      <th>1</th>\n",
       "      <td>11012</td>\n",
       "      <td>PH PROCEDIMIENTOS VASCULARES INTRACRANEALES W/CC</td>\n",
       "    </tr>\n",
       "    <tr>\n",
       "      <th>2</th>\n",
       "      <td>11013</td>\n",
       "      <td>PH PROCEDIMIENTOS VASCULARES INTRACRANEALES W...</td>\n",
       "    </tr>\n",
       "    <tr>\n",
       "      <th>3</th>\n",
       "      <td>11101</td>\n",
       "      <td>PH CRANEOTOMÍA</td>\n",
       "    </tr>\n",
       "    <tr>\n",
       "      <th>4</th>\n",
       "      <td>11102</td>\n",
       "      <td>PH CRANEOTOMÍA W/CC</td>\n",
       "    </tr>\n",
       "    <tr>\n",
       "      <th>...</th>\n",
       "      <td>...</td>\n",
       "      <td>...</td>\n",
       "    </tr>\n",
       "    <tr>\n",
       "      <th>1061</th>\n",
       "      <td>990089</td>\n",
       "      <td>INAGRUPABLE, DURACIÓN DE LA ESTANCIA NO VÁLIDA</td>\n",
       "    </tr>\n",
       "    <tr>\n",
       "      <th>1062</th>\n",
       "      <td>990099</td>\n",
       "      <td>INAGRUPABLE, PACIENTE AMBULATORIO CON PROCED....</td>\n",
       "    </tr>\n",
       "    <tr>\n",
       "      <th>1063</th>\n",
       "      <td>990119</td>\n",
       "      <td>INAGRUPABLE, SIN CRITERIO DE AGRUPACIÓN PARA ...</td>\n",
       "    </tr>\n",
       "    <tr>\n",
       "      <th>1064</th>\n",
       "      <td>990129</td>\n",
       "      <td>INAGRUPABLE, SIN CRITERIO DE AGRUPACIÓN PARA ...</td>\n",
       "    </tr>\n",
       "    <tr>\n",
       "      <th>1065</th>\n",
       "      <td>990149</td>\n",
       "      <td>INAGRUPABLE, DIAG. PRINCIPAL INVÁLIDO COMO DI...</td>\n",
       "    </tr>\n",
       "  </tbody>\n",
       "</table>\n",
       "<p>1066 rows × 2 columns</p>\n",
       "</div>"
      ],
      "text/plain": [
       "           0                                                  1\n",
       "0      11011        PH PROCEDIMIENTOS VASCULARES INTRACRANEALES\n",
       "1      11012   PH PROCEDIMIENTOS VASCULARES INTRACRANEALES W/CC\n",
       "2      11013   PH PROCEDIMIENTOS VASCULARES INTRACRANEALES W...\n",
       "3      11101                                     PH CRANEOTOMÍA\n",
       "4      11102                                PH CRANEOTOMÍA W/CC\n",
       "...      ...                                                ...\n",
       "1061  990089     INAGRUPABLE, DURACIÓN DE LA ESTANCIA NO VÁLIDA\n",
       "1062  990099   INAGRUPABLE, PACIENTE AMBULATORIO CON PROCED....\n",
       "1063  990119   INAGRUPABLE, SIN CRITERIO DE AGRUPACIÓN PARA ...\n",
       "1064  990129   INAGRUPABLE, SIN CRITERIO DE AGRUPACIÓN PARA ...\n",
       "1065  990149   INAGRUPABLE, DIAG. PRINCIPAL INVÁLIDO COMO DI...\n",
       "\n",
       "[1066 rows x 2 columns]"
      ]
     },
     "execution_count": 1,
     "metadata": {},
     "output_type": "execute_result"
    }
   ],
   "source": [
    "# Importa la biblioteca pandas con el alias pd, que se usa para manipulación de datos en estructuras tipo DataFrame.\n",
    "import pandas as pd\n",
    "\n",
    "# Importa la biblioteca numpy con el alias np, que se usa para operaciones numéricas avanzadas (aunque en este fragmento no se utiliza).\n",
    "import numpy as np\n",
    "\n",
    "# Lee el archivo 'grd_2023.csv' usando como delimitador el símbolo '|' y lo guarda en un DataFrame llamado grd.\n",
    "grd = pd.read_csv('grd_2023.csv', delimiter='|')\n",
    "\n",
    "# Muestra las primeras 5 filas del DataFrame grd para una vista preliminar de los datos.\n",
    "grd.head()\n",
    "\n",
    "# Lee el archivo 'hospitales.csv', sin encabezado (header=None), y con '|' como delimitador. Guarda el resultado en un DataFrame llamado hospitales.\n",
    "hospitales = pd.read_csv('hospitales.csv', header=None, delimiter=\"|\")\n",
    "\n",
    "# Muestra las primeras 5 filas del DataFrame hospitales.\n",
    "hospitales.head()\n",
    "\n",
    "# Lee el archivo 'ir-GRD.csv', sin encabezado (header=None), usando '|' como delimitador, y lo guarda en el DataFrame ir.\n",
    "ir = pd.read_csv('ir-GRD.csv', delimiter='|', header = None)\n",
    "\n",
    "# Muestra el contenido completo del DataFrame ir.\n",
    "ir\n"
   ]
  },
  {
   "cell_type": "code",
   "execution_count": 2,
   "metadata": {},
   "outputs": [
    {
     "data": {
      "text/plain": [
       "Index(['COD_HOSPITAL', 'CIP_ENCRIPTADO', 'SEXO', 'FECHA_NACIMIENTO',\n",
       "       'SERVICIO_SALUD', 'TIPO_INGRESO', 'FECHA_INGRESO', 'FECHAALTA',\n",
       "       'TIPOALTA', 'DIAGNOSTICO1', 'IR_29301_COD_GRD', 'IR_29301_PESO',\n",
       "       'IR_29301_SEVERIDAD', 'IR_29301_MORTALIDAD', 'EDAD', 'DIAS_ESTANCIA'],\n",
       "      dtype='object')"
      ]
     },
     "execution_count": 2,
     "metadata": {},
     "output_type": "execute_result"
    }
   ],
   "source": [
    "grd.columns"
   ]
  },
  {
   "cell_type": "code",
   "execution_count": 3,
   "metadata": {},
   "outputs": [
    {
     "data": {
      "text/plain": [
       "Index(['COD_HOSPITAL', 'CIP_ENCRIPTADO', 'SEXO', 'FECHA_NACIMIENTO',\n",
       "       'SERVICIO_SALUD', 'TIPO_INGRESO', 'FECHA_INGRESO', 'FECHA_ALTA',\n",
       "       'TIPO_ALTA', 'DIAGNOSTICO1', 'IR_29301_COD_GRD', 'IR_29301_PESO',\n",
       "       'IR_29301_SEVERIDAD', 'IR_29301_MORTALIDAD', 'EDAD', 'DIAS_ESTANCIA',\n",
       "       'NOMBRE_HOSPITAL'],\n",
       "      dtype='object')"
      ]
     },
     "execution_count": 3,
     "metadata": {},
     "output_type": "execute_result"
    }
   ],
   "source": [
    "# Realiza una combinación (merge) entre los DataFrames grd y hospitales. \n",
    "# Se usa 'COD_HOSPITAL' de grd y la columna 0 de hospitales para hacer la combinación (join).\n",
    "# Se utiliza 'how=\"left\"' para hacer una combinación a la izquierda, lo que significa que todos los registros de grd estarán en el resultado.\n",
    "grd_h = pd.merge(grd, hospitales, left_on='COD_HOSPITAL', right_on=0, how='left')\n",
    "\n",
    "# Elimina la columna 0 del DataFrame resultante, que es la que se utilizó para la combinación y que ya no es necesaria.\n",
    "grd_h = grd_h.drop(columns=0)\n",
    "\n",
    "# Renombra la columna 1 del DataFrame resultante a 'NOMBRE_HOSPITAL' para que tenga un nombre más descriptivo.\n",
    "grd_h = grd_h.rename(columns={1: 'NOMBRE_HOSPITAL'})\n",
    "\n",
    "# Renombra la columna 'FECHAALTA' a 'FECHA_ALTA' para estandarizar el nombre de la columna.\n",
    "grd_h = grd_h.rename(columns={\"FECHAALTA\": 'FECHA_ALTA'})\n",
    "\n",
    "# Renombra la columna 'TIPOALTA' a 'TIPO_ALTA' para estandarizar el nombre de la columna.\n",
    "grd_h = grd_h.rename(columns={\"TIPOALTA\": 'TIPO_ALTA'})\n",
    "\n",
    "# Muestra las primeras 5 filas del DataFrame grd_h para revisar el resultado de las transformaciones.\n",
    "grd_h.columns"
   ]
  },
  {
   "cell_type": "code",
   "execution_count": 4,
   "metadata": {},
   "outputs": [
    {
     "data": {
      "text/plain": [
       "Index(['COD_HOSPITAL', 'NOMBRE_HOSPITAL', 'CIP_ENCRIPTADO', 'SEXO',\n",
       "       'FECHA_NACIMIENTO', 'SERVICIO_SALUD', 'TIPO_INGRESO', 'FECHA_INGRESO',\n",
       "       'FECHA_ALTA', 'TIPO_ALTA', 'DIAGNOSTICO1', 'NOMBRE_IR',\n",
       "       'IR_29301_COD_GRD', 'IR_29301_PESO', 'IR_29301_SEVERIDAD',\n",
       "       'IR_29301_MORTALIDAD', 'EDAD', 'DIAS_ESTANCIA'],\n",
       "      dtype='object')"
      ]
     },
     "execution_count": 4,
     "metadata": {},
     "output_type": "execute_result"
    }
   ],
   "source": [
    "# Realiza una combinación (merge) entre los DataFrames grd_h y ir. \n",
    "# Se utiliza 'IR_29301_COD_GRD' de grd_h y la columna 0 de ir para hacer la combinación (join).\n",
    "# Se utiliza 'how=\"left\"' para hacer una combinación a la izquierda, asegurando que todos los registros de grd_h estén en el resultado.\n",
    "# Después, se elimina la columna 0 de ir (que se utilizó para la combinación) y se renombra la columna 1 de ir a 'NOMBRE_IR'.\n",
    "grd_f = pd.merge(grd_h, ir, left_on='IR_29301_COD_GRD', right_on=0, how='left').drop(columns=0).rename(columns={1: 'NOMBRE_IR'})\n",
    "\n",
    "# Selecciona un subconjunto de columnas del DataFrame grd_f, asegurando que solo se mantendrán las columnas especificadas en la lista.\n",
    "# Esto reordena las columnas y se asegura de que solo estén las necesarias para el análisis.\n",
    "grd_f = grd_f[[\"COD_HOSPITAL\", \"NOMBRE_HOSPITAL\", \"CIP_ENCRIPTADO\", \"SEXO\", \"FECHA_NACIMIENTO\",\n",
    "               \"SERVICIO_SALUD\", \"TIPO_INGRESO\", \"FECHA_INGRESO\", \"FECHA_ALTA\", \"TIPO_ALTA\",\n",
    "               \"DIAGNOSTICO1\", \"NOMBRE_IR\", \"IR_29301_COD_GRD\", \"IR_29301_PESO\", \"IR_29301_SEVERIDAD\",\n",
    "               \"IR_29301_MORTALIDAD\", \"EDAD\",\"DIAS_ESTANCIA\"]]\n",
    "\n",
    "# Muestra el DataFrame resultante grd_f, que ahora contiene solo las columnas seleccionadas.\n",
    "grd_f.columns"
   ]
  },
  {
   "cell_type": "code",
   "execution_count": 5,
   "metadata": {},
   "outputs": [
    {
     "data": {
      "text/html": [
       "<div>\n",
       "<style scoped>\n",
       "    .dataframe tbody tr th:only-of-type {\n",
       "        vertical-align: middle;\n",
       "    }\n",
       "\n",
       "    .dataframe tbody tr th {\n",
       "        vertical-align: top;\n",
       "    }\n",
       "\n",
       "    .dataframe thead th {\n",
       "        text-align: right;\n",
       "    }\n",
       "</style>\n",
       "<table border=\"1\" class=\"dataframe\">\n",
       "  <thead>\n",
       "    <tr style=\"text-align: right;\">\n",
       "      <th></th>\n",
       "      <th>COD_HOSPITAL</th>\n",
       "      <th>NOMBRE_HOSPITAL</th>\n",
       "      <th>CIP_ENCRIPTADO</th>\n",
       "      <th>SEXO</th>\n",
       "      <th>FECHA_NACIMIENTO</th>\n",
       "      <th>SERVICIO_SALUD</th>\n",
       "      <th>TIPO_INGRESO</th>\n",
       "      <th>FECHA_INGRESO</th>\n",
       "      <th>FECHA_ALTA</th>\n",
       "      <th>TIPO_ALTA</th>\n",
       "      <th>DIAGNOSTICO1</th>\n",
       "      <th>NOMBRE_IR</th>\n",
       "      <th>IR_29301_COD_GRD</th>\n",
       "      <th>IR_29301_PESO</th>\n",
       "      <th>IR_29301_SEVERIDAD</th>\n",
       "      <th>IR_29301_MORTALIDAD</th>\n",
       "      <th>EDAD</th>\n",
       "      <th>DIAS_ESTANCIA</th>\n",
       "      <th>FALLECIDO</th>\n",
       "    </tr>\n",
       "  </thead>\n",
       "  <tbody>\n",
       "    <tr>\n",
       "      <th>0</th>\n",
       "      <td>122100</td>\n",
       "      <td>Hospital Clínico Regional (Valdivia)</td>\n",
       "      <td>72196813.0</td>\n",
       "      <td>HOMBRE</td>\n",
       "      <td>1980-04-13</td>\n",
       "      <td>VALDIVIA</td>\n",
       "      <td>URGENCIA</td>\n",
       "      <td>2023-03-12</td>\n",
       "      <td>2023-03-14</td>\n",
       "      <td>DOMICILIO</td>\n",
       "      <td>K35.3</td>\n",
       "      <td>MH INFECCIONES GASTROINTESTINALES MAYORES</td>\n",
       "      <td>64161.0</td>\n",
       "      <td>0.7094</td>\n",
       "      <td>1.0</td>\n",
       "      <td>1.0</td>\n",
       "      <td>43.0</td>\n",
       "      <td>2</td>\n",
       "      <td>0</td>\n",
       "    </tr>\n",
       "    <tr>\n",
       "      <th>1</th>\n",
       "      <td>114101</td>\n",
       "      <td>Complejo Hospitalario Dr. Sótero del Río (San...</td>\n",
       "      <td>NaN</td>\n",
       "      <td>HOMBRE</td>\n",
       "      <td>2001-11-04</td>\n",
       "      <td>METROPOLITANO SURORIENTE</td>\n",
       "      <td>URGENCIA</td>\n",
       "      <td>2023-11-04</td>\n",
       "      <td>2023-11-10</td>\n",
       "      <td>DOMICILIO</td>\n",
       "      <td>J93.1</td>\n",
       "      <td>PH PROCEDIMIENTOS MODERADAMENTE COMPLEJOS SOB...</td>\n",
       "      <td>41301.0</td>\n",
       "      <td>1.0869</td>\n",
       "      <td>1.0</td>\n",
       "      <td>1.0</td>\n",
       "      <td>22.0</td>\n",
       "      <td>6</td>\n",
       "      <td>0</td>\n",
       "    </tr>\n",
       "    <tr>\n",
       "      <th>2</th>\n",
       "      <td>114101</td>\n",
       "      <td>Complejo Hospitalario Dr. Sótero del Río (San...</td>\n",
       "      <td>97627974.0</td>\n",
       "      <td>HOMBRE</td>\n",
       "      <td>2020-07-30</td>\n",
       "      <td>METROPOLITANO SURORIENTE</td>\n",
       "      <td>URGENCIA</td>\n",
       "      <td>2023-06-07</td>\n",
       "      <td>2023-06-08</td>\n",
       "      <td>HOSPITALIZACIÓN DOMICILIARIA</td>\n",
       "      <td>J12.1</td>\n",
       "      <td>MH NEUMONÍA SIMPLE Y TOS FERINA</td>\n",
       "      <td>44161.0</td>\n",
       "      <td>0.4084</td>\n",
       "      <td>1.0</td>\n",
       "      <td>1.0</td>\n",
       "      <td>3.0</td>\n",
       "      <td>1</td>\n",
       "      <td>0</td>\n",
       "    </tr>\n",
       "    <tr>\n",
       "      <th>3</th>\n",
       "      <td>106103</td>\n",
       "      <td>Hospital Claudio Vicuña (San Antonio)</td>\n",
       "      <td>67770674.0</td>\n",
       "      <td>MUJER</td>\n",
       "      <td>1978-11-14</td>\n",
       "      <td>VALPARAISO SAN ANTONIO</td>\n",
       "      <td>PROGRAMADA</td>\n",
       "      <td>2023-05-25</td>\n",
       "      <td>2023-05-26</td>\n",
       "      <td>DOMICILIO</td>\n",
       "      <td>N39.3</td>\n",
       "      <td>PH HISTERECTOMIA VAGINAL Y OTROS PROCEDIMIENT...</td>\n",
       "      <td>131301.0</td>\n",
       "      <td>0.6406</td>\n",
       "      <td>1.0</td>\n",
       "      <td>1.0</td>\n",
       "      <td>45.0</td>\n",
       "      <td>1</td>\n",
       "      <td>0</td>\n",
       "    </tr>\n",
       "    <tr>\n",
       "      <th>4</th>\n",
       "      <td>106103</td>\n",
       "      <td>Hospital Claudio Vicuña (San Antonio)</td>\n",
       "      <td>100390800.0</td>\n",
       "      <td>MUJER</td>\n",
       "      <td>2023-12-20</td>\n",
       "      <td>VALPARAISO SAN ANTONIO</td>\n",
       "      <td>URGENCIA</td>\n",
       "      <td>2023-12-28</td>\n",
       "      <td>2023-12-30</td>\n",
       "      <td>DOMICILIO</td>\n",
       "      <td>R17</td>\n",
       "      <td>MH ENFERMEDADES HEPÁTICAS EXCEPTO NEOPLASIAS,...</td>\n",
       "      <td>74131.0</td>\n",
       "      <td>0.5346</td>\n",
       "      <td>1.0</td>\n",
       "      <td>1.0</td>\n",
       "      <td>0.0</td>\n",
       "      <td>2</td>\n",
       "      <td>0</td>\n",
       "    </tr>\n",
       "  </tbody>\n",
       "</table>\n",
       "</div>"
      ],
      "text/plain": [
       "   COD_HOSPITAL                                    NOMBRE_HOSPITAL  \\\n",
       "0        122100               Hospital Clínico Regional (Valdivia)   \n",
       "1        114101   Complejo Hospitalario Dr. Sótero del Río (San...   \n",
       "2        114101   Complejo Hospitalario Dr. Sótero del Río (San...   \n",
       "3        106103              Hospital Claudio Vicuña (San Antonio)   \n",
       "4        106103              Hospital Claudio Vicuña (San Antonio)   \n",
       "\n",
       "   CIP_ENCRIPTADO    SEXO FECHA_NACIMIENTO            SERVICIO_SALUD  \\\n",
       "0      72196813.0  HOMBRE       1980-04-13                  VALDIVIA   \n",
       "1             NaN  HOMBRE       2001-11-04  METROPOLITANO SURORIENTE   \n",
       "2      97627974.0  HOMBRE       2020-07-30  METROPOLITANO SURORIENTE   \n",
       "3      67770674.0   MUJER       1978-11-14    VALPARAISO SAN ANTONIO   \n",
       "4     100390800.0   MUJER       2023-12-20    VALPARAISO SAN ANTONIO   \n",
       "\n",
       "  TIPO_INGRESO FECHA_INGRESO  FECHA_ALTA                     TIPO_ALTA  \\\n",
       "0     URGENCIA    2023-03-12  2023-03-14                     DOMICILIO   \n",
       "1     URGENCIA    2023-11-04  2023-11-10                     DOMICILIO   \n",
       "2     URGENCIA    2023-06-07  2023-06-08  HOSPITALIZACIÓN DOMICILIARIA   \n",
       "3   PROGRAMADA    2023-05-25  2023-05-26                     DOMICILIO   \n",
       "4     URGENCIA    2023-12-28  2023-12-30                     DOMICILIO   \n",
       "\n",
       "  DIAGNOSTICO1                                          NOMBRE_IR  \\\n",
       "0        K35.3          MH INFECCIONES GASTROINTESTINALES MAYORES   \n",
       "1        J93.1   PH PROCEDIMIENTOS MODERADAMENTE COMPLEJOS SOB...   \n",
       "2        J12.1                    MH NEUMONÍA SIMPLE Y TOS FERINA   \n",
       "3        N39.3   PH HISTERECTOMIA VAGINAL Y OTROS PROCEDIMIENT...   \n",
       "4          R17   MH ENFERMEDADES HEPÁTICAS EXCEPTO NEOPLASIAS,...   \n",
       "\n",
       "   IR_29301_COD_GRD  IR_29301_PESO  IR_29301_SEVERIDAD  IR_29301_MORTALIDAD  \\\n",
       "0           64161.0         0.7094                 1.0                  1.0   \n",
       "1           41301.0         1.0869                 1.0                  1.0   \n",
       "2           44161.0         0.4084                 1.0                  1.0   \n",
       "3          131301.0         0.6406                 1.0                  1.0   \n",
       "4           74131.0         0.5346                 1.0                  1.0   \n",
       "\n",
       "   EDAD  DIAS_ESTANCIA  FALLECIDO  \n",
       "0  43.0              2          0  \n",
       "1  22.0              6          0  \n",
       "2   3.0              1          0  \n",
       "3  45.0              1          0  \n",
       "4   0.0              2          0  "
      ]
     },
     "execution_count": 5,
     "metadata": {},
     "output_type": "execute_result"
    }
   ],
   "source": [
    "#Vemos quienes murieron y creamos una columna boinaria \"Fallecido\"\n",
    "falle = grd_f[\"TIPO_ALTA\"] == \"FALLECIDO\"\n",
    "grd_f[\"FALLECIDO\"] = falle.astype(int)\n",
    "grd_f.head(5)"
   ]
  },
  {
   "cell_type": "code",
   "execution_count": 6,
   "metadata": {},
   "outputs": [
    {
     "data": {
      "text/plain": [
       "Index(['COD_HOSPITAL', 'NOMBRE_HOSPITAL', 'CIP_ENCRIPTADO', 'SEXO',\n",
       "       'FECHA_NACIMIENTO', 'SERVICIO_SALUD', 'TIPO_INGRESO', 'FECHA_INGRESO',\n",
       "       'FECHA_ALTA', 'TIPO_ALTA', 'DIAGNOSTICO1', 'NOMBRE_IR',\n",
       "       'IR_29301_COD_GRD', 'IR_29301_PESO', 'IR_29301_SEVERIDAD',\n",
       "       'IR_29301_MORTALIDAD', 'EDAD', 'DIAS_ESTANCIA', 'FALLECIDO'],\n",
       "      dtype='object')"
      ]
     },
     "execution_count": 6,
     "metadata": {},
     "output_type": "execute_result"
    }
   ],
   "source": [
    "grd_f.columns"
   ]
  },
  {
   "cell_type": "code",
   "execution_count": 7,
   "metadata": {},
   "outputs": [],
   "source": [
    "grd_f.drop([\"COD_HOSPITAL\",\"CIP_ENCRIPTADO\",\"FECHA_NACIMIENTO\",\n",
    "          \"SERVICIO_SALUD\",\"FECHA_INGRESO\",\"FECHA_ALTA\",\"TIPO_ALTA\",\n",
    "          \"TIPO_ALTA\",\"DIAGNOSTICO1\",\"NOMBRE_IR\",'IR_29301_COD_GRD', 'IR_29301_PESO'], axis=1, inplace= True)"
   ]
  },
  {
   "cell_type": "code",
   "execution_count": 8,
   "metadata": {},
   "outputs": [
    {
     "data": {
      "text/plain": [
       "68"
      ]
     },
     "execution_count": 8,
     "metadata": {},
     "output_type": "execute_result"
    }
   ],
   "source": [
    "len(grd_f[\"NOMBRE_HOSPITAL\"].unique())"
   ]
  },
  {
   "cell_type": "code",
   "execution_count": 9,
   "metadata": {},
   "outputs": [],
   "source": [
    "cuenta = grd_f[\"NOMBRE_HOSPITAL\"].value_counts()"
   ]
  },
  {
   "cell_type": "code",
   "execution_count": 10,
   "metadata": {},
   "outputs": [
    {
     "data": {
      "text/plain": [
       "(68,)"
      ]
     },
     "execution_count": 10,
     "metadata": {},
     "output_type": "execute_result"
    }
   ],
   "source": [
    "cuenta.shape"
   ]
  },
  {
   "cell_type": "markdown",
   "metadata": {},
   "source": [
    "Ya que la cantidad de hospitales es sustancial, vamos a reducir el número viendo aquellos que tengan pocos pacientes atendidos. Para esto, vamos a eliminar todos los hospitales que hayan atendido menos del X% de los pacientes."
   ]
  },
  {
   "cell_type": "code",
   "execution_count": 11,
   "metadata": {},
   "outputs": [
    {
     "data": {
      "text/plain": [
       "<bound method Series.sort_values of NOMBRE_HOSPITAL                                                      \n",
       " Complejo Hospitalario Dr. Sótero del Río (Santiago, Puente Alto)        0.047762\n",
       " Hospital Clínico Regional Dr. Guillermo Grant Benavente (Concepción)    0.032844\n",
       " Hospital Dr. César Garavagno Burotto (Talca)                            0.030924\n",
       " Complejo Asistencial Dr. Víctor Ríos Ruiz (Los Ángeles)                 0.030061\n",
       " Hospital Dr. Hernán Henríquez Aravena (Temuco)                          0.028652\n",
       "                                                                           ...   \n",
       " Hospital Dr. Abraham Godoy (Lautaro)                                    0.004286\n",
       " Hospital de Tomé                                                        0.004262\n",
       " Hospital de Pitrufquén                                                  0.003893\n",
       " Instituto Nacional de Enfermedades Respiratorias y Cirugía Torácica     0.003457\n",
       " Instituto de Neurocirugía Dr. Alfonso Asenjo                            0.003423\n",
       "Name: count, Length: 68, dtype: float64>"
      ]
     },
     "execution_count": 11,
     "metadata": {},
     "output_type": "execute_result"
    }
   ],
   "source": [
    "numero_atendido_hosp = grd_f.value_counts([\"NOMBRE_HOSPITAL\"])\n",
    "Total_atendido = len(grd_f)\n",
    "propor_atend_hosp = numero_atendido_hosp/Total_atendido\n",
    "propor_atend_hosp.sort_values\n"
   ]
  },
  {
   "cell_type": "markdown",
   "metadata": {},
   "source": [
    "Eliminamos los que no cumplan con el threshold"
   ]
  },
  {
   "cell_type": "code",
   "execution_count": 12,
   "metadata": {},
   "outputs": [
    {
     "data": {
      "text/plain": [
       "NOMBRE_HOSPITAL                                                      \n",
       " Complejo Hospitalario Dr. Sótero del Río (Santiago, Puente Alto)        0.047762\n",
       " Hospital Clínico Regional Dr. Guillermo Grant Benavente (Concepción)    0.032844\n",
       " Hospital Dr. César Garavagno Burotto (Talca)                            0.030924\n",
       " Complejo Asistencial Dr. Víctor Ríos Ruiz (Los Ángeles)                 0.030061\n",
       "Name: count, dtype: float64"
      ]
     },
     "execution_count": 12,
     "metadata": {},
     "output_type": "execute_result"
    }
   ],
   "source": [
    "hospitales_cumplen = propor_atend_hosp[propor_atend_hosp>= 0.03] #Cambiar threshold\n",
    "hospitales_cumplen.head()"
   ]
  },
  {
   "cell_type": "code",
   "execution_count": 13,
   "metadata": {},
   "outputs": [
    {
     "data": {
      "text/plain": [
       "[' Complejo Hospitalario Dr. Sótero del Río (Santiago, Puente Alto)',\n",
       " ' Hospital Clínico Regional Dr. Guillermo Grant Benavente (Concepción)',\n",
       " ' Hospital Dr. César Garavagno Burotto (Talca)',\n",
       " ' Complejo Asistencial Dr. Víctor Ríos Ruiz (Los Ángeles)']"
      ]
     },
     "execution_count": 13,
     "metadata": {},
     "output_type": "execute_result"
    }
   ],
   "source": [
    "hospitales_cumplen2 = hospitales_cumplen.index.to_list()\n",
    "hospitales_cumplen_f = []\n",
    "for i in hospitales_cumplen2:\n",
    "    hospitales_cumplen_f.append(i[0])\n",
    "hospitales_cumplen_f"
   ]
  },
  {
   "cell_type": "markdown",
   "metadata": {},
   "source": [
    "Aislamos los pacientes atendidos en los hospitales que cumplen con el threshold"
   ]
  },
  {
   "cell_type": "code",
   "execution_count": 14,
   "metadata": {},
   "outputs": [
    {
     "data": {
      "text/plain": [
       "0          False\n",
       "1           True\n",
       "2           True\n",
       "3          False\n",
       "4          False\n",
       "           ...  \n",
       "1039582    False\n",
       "1039583     True\n",
       "1039584    False\n",
       "1039585    False\n",
       "1039586    False\n",
       "Name: NOMBRE_HOSPITAL, Length: 1039587, dtype: bool"
      ]
     },
     "execution_count": 14,
     "metadata": {},
     "output_type": "execute_result"
    }
   ],
   "source": [
    "grd_f[\"NOMBRE_HOSPITAL\"].isin(hospitales_cumplen_f)"
   ]
  },
  {
   "cell_type": "code",
   "execution_count": 15,
   "metadata": {},
   "outputs": [
    {
     "data": {
      "text/html": [
       "<div>\n",
       "<style scoped>\n",
       "    .dataframe tbody tr th:only-of-type {\n",
       "        vertical-align: middle;\n",
       "    }\n",
       "\n",
       "    .dataframe tbody tr th {\n",
       "        vertical-align: top;\n",
       "    }\n",
       "\n",
       "    .dataframe thead th {\n",
       "        text-align: right;\n",
       "    }\n",
       "</style>\n",
       "<table border=\"1\" class=\"dataframe\">\n",
       "  <thead>\n",
       "    <tr style=\"text-align: right;\">\n",
       "      <th></th>\n",
       "      <th>NOMBRE_HOSPITAL</th>\n",
       "      <th>SEXO</th>\n",
       "      <th>TIPO_INGRESO</th>\n",
       "      <th>IR_29301_SEVERIDAD</th>\n",
       "      <th>IR_29301_MORTALIDAD</th>\n",
       "      <th>EDAD</th>\n",
       "      <th>DIAS_ESTANCIA</th>\n",
       "      <th>FALLECIDO</th>\n",
       "    </tr>\n",
       "  </thead>\n",
       "  <tbody>\n",
       "    <tr>\n",
       "      <th>1</th>\n",
       "      <td>Complejo Hospitalario Dr. Sótero del Río (San...</td>\n",
       "      <td>HOMBRE</td>\n",
       "      <td>URGENCIA</td>\n",
       "      <td>1.0</td>\n",
       "      <td>1.0</td>\n",
       "      <td>22.0</td>\n",
       "      <td>6</td>\n",
       "      <td>0</td>\n",
       "    </tr>\n",
       "    <tr>\n",
       "      <th>2</th>\n",
       "      <td>Complejo Hospitalario Dr. Sótero del Río (San...</td>\n",
       "      <td>HOMBRE</td>\n",
       "      <td>URGENCIA</td>\n",
       "      <td>1.0</td>\n",
       "      <td>1.0</td>\n",
       "      <td>3.0</td>\n",
       "      <td>1</td>\n",
       "      <td>0</td>\n",
       "    </tr>\n",
       "    <tr>\n",
       "      <th>13</th>\n",
       "      <td>Hospital Dr. César Garavagno Burotto (Talca)</td>\n",
       "      <td>MUJER</td>\n",
       "      <td>PROGRAMADA</td>\n",
       "      <td>1.0</td>\n",
       "      <td>1.0</td>\n",
       "      <td>5.0</td>\n",
       "      <td>0</td>\n",
       "      <td>0</td>\n",
       "    </tr>\n",
       "    <tr>\n",
       "      <th>16</th>\n",
       "      <td>Hospital Dr. César Garavagno Burotto (Talca)</td>\n",
       "      <td>HOMBRE</td>\n",
       "      <td>PROGRAMADA</td>\n",
       "      <td>1.0</td>\n",
       "      <td>1.0</td>\n",
       "      <td>5.0</td>\n",
       "      <td>0</td>\n",
       "      <td>0</td>\n",
       "    </tr>\n",
       "    <tr>\n",
       "      <th>37</th>\n",
       "      <td>Hospital Dr. César Garavagno Burotto (Talca)</td>\n",
       "      <td>MUJER</td>\n",
       "      <td>PROGRAMADA</td>\n",
       "      <td>3.0</td>\n",
       "      <td>2.0</td>\n",
       "      <td>5.0</td>\n",
       "      <td>0</td>\n",
       "      <td>0</td>\n",
       "    </tr>\n",
       "    <tr>\n",
       "      <th>...</th>\n",
       "      <td>...</td>\n",
       "      <td>...</td>\n",
       "      <td>...</td>\n",
       "      <td>...</td>\n",
       "      <td>...</td>\n",
       "      <td>...</td>\n",
       "      <td>...</td>\n",
       "      <td>...</td>\n",
       "    </tr>\n",
       "    <tr>\n",
       "      <th>1039575</th>\n",
       "      <td>Hospital Dr. César Garavagno Burotto (Talca)</td>\n",
       "      <td>HOMBRE</td>\n",
       "      <td>PROGRAMADA</td>\n",
       "      <td>1.0</td>\n",
       "      <td>1.0</td>\n",
       "      <td>4.0</td>\n",
       "      <td>0</td>\n",
       "      <td>0</td>\n",
       "    </tr>\n",
       "    <tr>\n",
       "      <th>1039576</th>\n",
       "      <td>Hospital Dr. César Garavagno Burotto (Talca)</td>\n",
       "      <td>HOMBRE</td>\n",
       "      <td>URGENCIA</td>\n",
       "      <td>1.0</td>\n",
       "      <td>1.0</td>\n",
       "      <td>10.0</td>\n",
       "      <td>2</td>\n",
       "      <td>0</td>\n",
       "    </tr>\n",
       "    <tr>\n",
       "      <th>1039577</th>\n",
       "      <td>Hospital Dr. César Garavagno Burotto (Talca)</td>\n",
       "      <td>HOMBRE</td>\n",
       "      <td>URGENCIA</td>\n",
       "      <td>1.0</td>\n",
       "      <td>1.0</td>\n",
       "      <td>10.0</td>\n",
       "      <td>2</td>\n",
       "      <td>0</td>\n",
       "    </tr>\n",
       "    <tr>\n",
       "      <th>1039580</th>\n",
       "      <td>Hospital Dr. César Garavagno Burotto (Talca)</td>\n",
       "      <td>HOMBRE</td>\n",
       "      <td>PROGRAMADA</td>\n",
       "      <td>0.0</td>\n",
       "      <td>0.0</td>\n",
       "      <td>74.0</td>\n",
       "      <td>0</td>\n",
       "      <td>0</td>\n",
       "    </tr>\n",
       "    <tr>\n",
       "      <th>1039583</th>\n",
       "      <td>Hospital Clínico Regional Dr. Guillermo Grant...</td>\n",
       "      <td>MUJER</td>\n",
       "      <td>PROGRAMADA</td>\n",
       "      <td>0.0</td>\n",
       "      <td>0.0</td>\n",
       "      <td>32.0</td>\n",
       "      <td>0</td>\n",
       "      <td>0</td>\n",
       "    </tr>\n",
       "  </tbody>\n",
       "</table>\n",
       "<p>147196 rows × 8 columns</p>\n",
       "</div>"
      ],
      "text/plain": [
       "                                           NOMBRE_HOSPITAL    SEXO  \\\n",
       "1         Complejo Hospitalario Dr. Sótero del Río (San...  HOMBRE   \n",
       "2         Complejo Hospitalario Dr. Sótero del Río (San...  HOMBRE   \n",
       "13            Hospital Dr. César Garavagno Burotto (Talca)   MUJER   \n",
       "16            Hospital Dr. César Garavagno Burotto (Talca)  HOMBRE   \n",
       "37            Hospital Dr. César Garavagno Burotto (Talca)   MUJER   \n",
       "...                                                    ...     ...   \n",
       "1039575       Hospital Dr. César Garavagno Burotto (Talca)  HOMBRE   \n",
       "1039576       Hospital Dr. César Garavagno Burotto (Talca)  HOMBRE   \n",
       "1039577       Hospital Dr. César Garavagno Burotto (Talca)  HOMBRE   \n",
       "1039580       Hospital Dr. César Garavagno Burotto (Talca)  HOMBRE   \n",
       "1039583   Hospital Clínico Regional Dr. Guillermo Grant...   MUJER   \n",
       "\n",
       "        TIPO_INGRESO  IR_29301_SEVERIDAD  IR_29301_MORTALIDAD  EDAD  \\\n",
       "1           URGENCIA                 1.0                  1.0  22.0   \n",
       "2           URGENCIA                 1.0                  1.0   3.0   \n",
       "13        PROGRAMADA                 1.0                  1.0   5.0   \n",
       "16        PROGRAMADA                 1.0                  1.0   5.0   \n",
       "37        PROGRAMADA                 3.0                  2.0   5.0   \n",
       "...              ...                 ...                  ...   ...   \n",
       "1039575   PROGRAMADA                 1.0                  1.0   4.0   \n",
       "1039576     URGENCIA                 1.0                  1.0  10.0   \n",
       "1039577     URGENCIA                 1.0                  1.0  10.0   \n",
       "1039580   PROGRAMADA                 0.0                  0.0  74.0   \n",
       "1039583   PROGRAMADA                 0.0                  0.0  32.0   \n",
       "\n",
       "         DIAS_ESTANCIA  FALLECIDO  \n",
       "1                    6          0  \n",
       "2                    1          0  \n",
       "13                   0          0  \n",
       "16                   0          0  \n",
       "37                   0          0  \n",
       "...                ...        ...  \n",
       "1039575              0          0  \n",
       "1039576              2          0  \n",
       "1039577              2          0  \n",
       "1039580              0          0  \n",
       "1039583              0          0  \n",
       "\n",
       "[147196 rows x 8 columns]"
      ]
     },
     "execution_count": 15,
     "metadata": {},
     "output_type": "execute_result"
    }
   ],
   "source": [
    "Casos = grd_f[grd_f[\"NOMBRE_HOSPITAL\"].isin(hospitales_cumplen_f)]\n",
    "Casos"
   ]
  },
  {
   "cell_type": "code",
   "execution_count": 16,
   "metadata": {},
   "outputs": [
    {
     "data": {
      "text/plain": [
       "count       147196\n",
       "unique           3\n",
       "top       URGENCIA\n",
       "freq         68307\n",
       "Name: TIPO_INGRESO, dtype: object"
      ]
     },
     "execution_count": 16,
     "metadata": {},
     "output_type": "execute_result"
    }
   ],
   "source": [
    "Casos[\"TIPO_INGRESO\"].describe()"
   ]
  },
  {
   "cell_type": "code",
   "execution_count": 17,
   "metadata": {},
   "outputs": [],
   "source": [
    "\n",
    "#grd_dum = pd.get_dummies(grd)#grd.shape()"
   ]
  },
  {
   "cell_type": "code",
   "execution_count": null,
   "metadata": {},
   "outputs": [],
   "source": []
  }
 ],
 "metadata": {
  "kernelspec": {
   "display_name": "base",
   "language": "python",
   "name": "python3"
  },
  "language_info": {
   "codemirror_mode": {
    "name": "ipython",
    "version": 3
   },
   "file_extension": ".py",
   "mimetype": "text/x-python",
   "name": "python",
   "nbconvert_exporter": "python",
   "pygments_lexer": "ipython3",
   "version": "3.11.7"
  }
 },
 "nbformat": 4,
 "nbformat_minor": 2
}
